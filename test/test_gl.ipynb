{
 "cells": [
  {
   "cell_type": "code",
   "execution_count": 1,
   "metadata": {},
   "outputs": [],
   "source": [
    "import numpy as np\n",
    "import torch\n",
    "from torch import Tensor\n"
   ]
  },
  {
   "cell_type": "code",
   "execution_count": 2,
   "metadata": {},
   "outputs": [],
   "source": [
    "import os\n",
    "import sys\n",
    "# sys.path.append(os.path.dirname(os.path.dirname(os.path.abspath(__file__))))\n",
    "# print(os.path.dirname(os.path.dirname(os.path.abspath(__file__))))"
   ]
  },
  {
   "cell_type": "code",
   "execution_count": 3,
   "metadata": {},
   "outputs": [],
   "source": [
    "# sys.path.append(os.path.join(os.getcwd(), '..'))\n",
    "os.chdir(os.path.join(os.getcwd(), '..'))"
   ]
  },
  {
   "cell_type": "code",
   "execution_count": 4,
   "metadata": {},
   "outputs": [
    {
     "data": {
      "text/plain": [
       "['.git',\n",
       " '.gitignore',\n",
       " '.ruff_cache',\n",
       " '.venv',\n",
       " 'baselines',\n",
       " 'BM_2Sphere',\n",
       " 'build',\n",
       " 'CharTrajectories',\n",
       " 'CIFAR10',\n",
       " 'data',\n",
       " 'development',\n",
       " 'example.py',\n",
       " 'harmonic',\n",
       " 'images',\n",
       " 'img',\n",
       " 'Nbody',\n",
       " 'Path_Development_Net.egg-info',\n",
       " 'pdev.egg-info',\n",
       " 'README.md',\n",
       " 'setup.py',\n",
       " 'sMNIST',\n",
       " 'SpeechCommands',\n",
       " 'test',\n",
       " '__init__.py']"
      ]
     },
     "execution_count": 4,
     "metadata": {},
     "output_type": "execute_result"
    }
   ],
   "source": [
    "os.listdir(os.getcwd())"
   ]
  },
  {
   "cell_type": "markdown",
   "metadata": {},
   "source": []
  },
  {
   "cell_type": "code",
   "execution_count": 5,
   "metadata": {},
   "outputs": [],
   "source": [
    "import torch \n",
    "# from development.gl import gl\n",
    "from development.nn import development_layer\n",
    "from development.gl import gl\n",
    "from development.he import he\n"
   ]
  },
  {
   "cell_type": "code",
   "execution_count": 6,
   "metadata": {},
   "outputs": [],
   "source": [
    "def generate_BM_paths_torch(\n",
    "    N: int, delta: float, rho: float, t: float = 1, device: str = \"cuda\"\n",
    ") -> Tensor:\n",
    "    \"\"\"\n",
    "    Return N samples of 2D brownian motion with step-size delta and sample correlation rho\n",
    "    \"\"\"\n",
    "    k = int(np.floor(t / delta))\n",
    "    sigma = np.sqrt(delta)\n",
    "    x = sigma * torch.randn((1, k, 2)).repeat(N, 1, 1)\n",
    "    y = sigma * torch.randn((N, k, 2))\n",
    "    z = rho * x + np.sqrt(1 - rho**2) * y\n",
    "    z = torch.cumsum(z, axis=1)\n",
    "    z = torch.cat([torch.zeros((N, 1, 2)), z], axis=1)\n",
    "    return z"
   ]
  },
  {
   "cell_type": "code",
   "execution_count": 7,
   "metadata": {},
   "outputs": [
    {
     "name": "stdout",
     "output_type": "stream",
     "text": [
      "torch.Size([100, 101, 2])\n"
     ]
    }
   ],
   "source": [
    "paths = generate_BM_paths_torch(100, 0.01, .2)\n",
    "print(paths.shape)\n",
    "\n"
   ]
  },
  {
   "cell_type": "code",
   "execution_count": 8,
   "metadata": {},
   "outputs": [],
   "source": [
    "hidden_size = 4\n",
    "dev_layer = development_layer(\n",
    "    input_size=2,\n",
    "    hidden_size=hidden_size,\n",
    "    channels=1,\n",
    "    param=he,\n",
    "    complexification=False,\n",
    "    return_sequence=False,\n",
    ")"
   ]
  },
  {
   "cell_type": "code",
   "execution_count": 9,
   "metadata": {},
   "outputs": [
    {
     "data": {
      "text/plain": [
       "development_layer(\n",
       "  (projection): projection(\n",
       "    (param_map): he()\n",
       "  )\n",
       ")"
      ]
     },
     "execution_count": 9,
     "metadata": {},
     "output_type": "execute_result"
    }
   ],
   "source": [
    "dev_layer"
   ]
  },
  {
   "cell_type": "code",
   "execution_count": 10,
   "metadata": {},
   "outputs": [
    {
     "name": "stdout",
     "output_type": "stream",
     "text": [
      "torch.Size([100, 1, 4, 4])\n"
     ]
    }
   ],
   "source": [
    "devs = dev_layer(paths)\n",
    "print(devs.shape)\n"
   ]
  },
  {
   "cell_type": "code",
   "execution_count": 11,
   "metadata": {},
   "outputs": [
    {
     "data": {
      "text/plain": [
       "tensor([[[ 1.0000,  0.3210,  0.0615,  0.0683],\n",
       "         [ 0.0000,  1.0000, -0.3581,  0.0433],\n",
       "         [ 0.0000,  0.0000,  1.0000,  0.2368],\n",
       "         [ 0.0000,  0.0000,  0.0000,  1.0000]]], grad_fn=<SelectBackward0>)"
      ]
     },
     "execution_count": 11,
     "metadata": {},
     "output_type": "execute_result"
    }
   ],
   "source": [
    "devs[0]"
   ]
  },
  {
   "cell_type": "code",
   "execution_count": null,
   "metadata": {},
   "outputs": [],
   "source": []
  },
  {
   "cell_type": "code",
   "execution_count": null,
   "metadata": {},
   "outputs": [],
   "source": []
  }
 ],
 "metadata": {
  "kernelspec": {
   "display_name": ".venv",
   "language": "python",
   "name": "python3"
  },
  "language_info": {
   "codemirror_mode": {
    "name": "ipython",
    "version": 3
   },
   "file_extension": ".py",
   "mimetype": "text/x-python",
   "name": "python",
   "nbconvert_exporter": "python",
   "pygments_lexer": "ipython3",
   "version": "3.9.20"
  }
 },
 "nbformat": 4,
 "nbformat_minor": 2
}
