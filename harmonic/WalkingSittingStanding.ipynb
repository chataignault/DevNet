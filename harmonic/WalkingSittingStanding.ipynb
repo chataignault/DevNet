{
 "cells": [
  {
   "cell_type": "markdown",
   "metadata": {},
   "source": [
    "**Data :**\n",
    "*WalkingSittingStanding* from [UAE](https://www.timeseriesclassification.com/description.php?Dataset=WalkingSittingStanding)\n",
    "\n",
    "For reference, a MiniRocket classifier gets accuracy of 92.7% on the default test data.\n",
    "\n",
    "Best so far : 60 % accuracy\n",
    "\n",
    "- the loss function does not have a smooth profile \n",
    "- parameter tuning on the optimisation and, size, number of channels and loss parameters"
   ]
  },
  {
   "cell_type": "code",
   "execution_count": 51,
   "metadata": {},
   "outputs": [],
   "source": [
    "import os\n",
    "from aeon.datasets import load_from_tsfile\n",
    "from matplotlib import pyplot as plt\n",
    "from tqdm import tqdm\n",
    "import numpy as np\n",
    "import torch\n",
    "from torch import Tensor\n",
    "\n",
    "from torch.utils.data import TensorDataset, DataLoader\n",
    "from torch import optim\n",
    "from torch import nn\n",
    "from sklearn.metrics import confusion_matrix, ConfusionMatrixDisplay\n",
    "import pandas as pd\n",
    "\n",
    "import random\n"
   ]
  },
  {
   "cell_type": "code",
   "execution_count": 52,
   "metadata": {},
   "outputs": [],
   "source": [
    "data_dir = os.path.join(os.getcwd(), \"..\", \"data\", \"WalkingSittingStanding\")\n",
    "train_file = \"WalkingSittingStanding_TRAIN.ts\"\n",
    "test_file = \"WalkingSittingStanding_TEST.ts\""
   ]
  },
  {
   "cell_type": "code",
   "execution_count": 53,
   "metadata": {},
   "outputs": [
    {
     "data": {
      "text/plain": [
       "(torch.Size([7352, 206, 3]), 2947)"
      ]
     },
     "execution_count": 53,
     "metadata": {},
     "output_type": "execute_result"
    }
   ],
   "source": [
    "tsx_train, y_train_labels = load_from_tsfile(os.path.join(data_dir, train_file))\n",
    "tsx_test, y_test_labels = load_from_tsfile(os.path.join(data_dir, test_file))\n",
    "# Convert labels to one-hot encoded vectors\n",
    "\n",
    "def to_one_hot(y, num_classes=6):\n",
    "    return np.eye(num_classes)[y.astype(int)]\n",
    "\n",
    "# Convert to soft probabilities\n",
    "def to_soft_probabilities(y_one_hot, temperature=.2):\n",
    "    exp_values = np.exp(y_one_hot / temperature)\n",
    "    return exp_values / np.sum(exp_values, axis=1, keepdims=True)\n",
    "# Apply transformations\n",
    "y_train = to_soft_probabilities(to_one_hot(y_train_labels.astype(float)))\n",
    "y_test = to_soft_probabilities(to_one_hot(y_test_labels.astype(float)))\n",
    "\n",
    "tsx_train = Tensor(tsx_train).swapaxes(1, 2)\n",
    "tsx_test = Tensor(tsx_test).swapaxes(1, 2)\n",
    "\n",
    "# Convert back to PyTorch tensors\n",
    "y_train = torch.logit(torch.tensor(y_train, dtype=torch.float32))\n",
    "y_test = torch.logit(torch.tensor(y_test, dtype=torch.float32))\n",
    "tsx_train.shape, len(y_test)"
   ]
  },
  {
   "cell_type": "code",
   "execution_count": 4,
   "metadata": {},
   "outputs": [
    {
     "data": {
      "text/plain": [
       "(torch.Size([7352, 206, 3]), torch.Size([7352, 6]))"
      ]
     },
     "execution_count": 4,
     "metadata": {},
     "output_type": "execute_result"
    }
   ],
   "source": [
    "tsx_train.shape, y_train.shape"
   ]
  },
  {
   "cell_type": "code",
   "execution_count": 4,
   "metadata": {},
   "outputs": [],
   "source": [
    "# # local imports\n",
    "# import sys\n",
    "\n",
    "# sys.path.append(os.path.join(os.getcwd(), \"..\"))\n",
    "\n",
    "# from development.nn import development_layer\n",
    "# from development.so import so"
   ]
  },
  {
   "cell_type": "markdown",
   "metadata": {},
   "source": [
    "## Expected path development"
   ]
  },
  {
   "cell_type": "code",
   "execution_count": 138,
   "metadata": {},
   "outputs": [],
   "source": [
    "\n",
    "\n",
    "def generate_derangement(n):\n",
    "    while True:\n",
    "        # Generate a random permutation of elements\n",
    "        perm = list(range(n))\n",
    "        random.shuffle(perm)\n",
    "\n",
    "        # Check if it's a derangement\n",
    "        if all(perm[i] != i for i in range(n)):\n",
    "            return perm\n",
    "\n",
    "\n",
    "def train_model_multichannels(\n",
    "    model,\n",
    "    optimizer,\n",
    "    data_loader,\n",
    "    hidden_size: int,\n",
    "    num_epochs=10,\n",
    "    alpha=0.2,\n",
    "    beta=0.5,\n",
    "    verbose=True,\n",
    "):\n",
    "    model.train()\n",
    "    lossx = []\n",
    "    for epoch in range(num_epochs):\n",
    "        for inputs, labels in data_loader:\n",
    "            optimizer.zero_grad()\n",
    "            X = model(inputs)\n",
    "\n",
    "            Y0 = X[labels == 0]\n",
    "            Y1 = X[labels == 1]\n",
    "            Y2 = X[labels == 2]\n",
    "            Y3 = X[labels == 3]\n",
    "            Y4 = X[labels == 4]\n",
    "            Y5 = X[labels == 5]\n",
    "\n",
    "            tau_0 = torch.mean(Y0, axis=0) if len(Y0) > 0 else torch.zeros_like(X[0])\n",
    "            tau_1 = torch.mean(Y1, axis=0) if len(Y1) > 0 else torch.zeros_like(X[0])\n",
    "            tau_2 = torch.mean(Y2, axis=0) if len(Y2) > 0 else torch.zeros_like(X[0])\n",
    "            tau_3 = torch.mean(Y3, axis=0) if len(Y3) > 0 else torch.zeros_like(X[0])\n",
    "            tau_4 = torch.mean(Y4, axis=0) if len(Y4) > 0 else torch.zeros_like(X[0])\n",
    "            tau_5 = torch.mean(Y5, axis=0) if len(Y5) > 0 else torch.zeros_like(X[0])\n",
    "\n",
    "            tau = torch.stack([tau_0, tau_1, tau_2, tau_3, tau_4, tau_5])\n",
    "            dtau = tau - tau[generate_derangement(6)]\n",
    "            nclass, nchannels, _, _ = dtau.shape\n",
    "            dtau = dtau.reshape((nclass * nchannels, hidden_size, hidden_size))\n",
    "            dtau0 = tau_0 - Y0\n",
    "            dtau1 = tau_1 - Y1\n",
    "            dtau2 = tau_2 - Y2\n",
    "            dtau3 = tau_3 - Y3\n",
    "            dtau4 = tau_4 - Y4\n",
    "            dtau5 = tau_5 - Y5\n",
    "\n",
    "            b, c, d, _ = X.shape\n",
    "\n",
    "            loss = (\n",
    "                -(1 - beta)\n",
    "                * (torch.swapaxes(dtau, 1, 2).bmm(dtau).diagonal(dim1=1, dim2=2).sum())\n",
    "                / hidden_size\n",
    "                / b\n",
    "                - beta\n",
    "                * (torch.swapaxes(dtau, 1, 2).bmm(dtau).diagonal(dim1=1, dim2=2).sum())\n",
    "                ** 2\n",
    "                / hidden_size\n",
    "                / b\n",
    "            )\n",
    "            for dt in [dtau0, dtau1, dtau2, dtau3, dtau4, dtau5]:\n",
    "                loss += (\n",
    "                    alpha\n",
    "                    * torch.norm(\n",
    "                        torch.swapaxes(dt.reshape((len(dt) * c, d, d)), 1, 2)\n",
    "                        .bmm(dt.reshape((len(dt) * c, d, d)))\n",
    "                        .diagonal(dim1=1, dim2=2)\n",
    "                        .sum(-1)\n",
    "                    )\n",
    "                    ** 2\n",
    "                    / hidden_size\n",
    "                    / len(dt)\n",
    "                )\n",
    "            loss.backward()\n",
    "            optimizer.step()\n",
    "\n",
    "            lossx.append(loss.item() / b)\n",
    "\n",
    "        if verbose:\n",
    "            print(\n",
    "                f\"Epoch [{epoch+1}/{num_epochs}], Loss: {np.sum(lossx[-1000:]) / 1000}\"\n",
    "            )\n",
    "\n",
    "    return lossx"
   ]
  },
  {
   "cell_type": "code",
   "execution_count": 145,
   "metadata": {},
   "outputs": [],
   "source": [
    "# build the dataset\n",
    "batch_size = 128\n",
    "train = TensorDataset(tsx_train, y_train)\n",
    "\n",
    "train_loader = DataLoader(train, batch_size=batch_size, shuffle=True)"
   ]
  },
  {
   "cell_type": "code",
   "execution_count": null,
   "metadata": {},
   "outputs": [],
   "source": [
    "class DevNetMultipleLayers(nn.Module):\n",
    "    def __init__(self, dev_layer):\n",
    "        super().__init__(self)\n",
    "        self.dev_layer = dev_layer\n",
    "        self.hidden_sizew = dev_layer.hidden_size\n",
    "        # add an attention layer on the channels before doing the average\n",
    "        # will allow to select the best samples without having to shift all\n",
    "        # of them in a coherent direction\n",
    "        # risk of overfittin\n",
    "        self.attention = Attention\n",
    "\n",
    "    def forward(self, x):\n",
    "        x = self.dev_layer(x)\n",
    "        x = self.linear(x)\n",
    "        return x\n",
    "\n",
    "    def partial_forward(self, x):\n",
    "        return self.dev_layer(x)"
   ]
  },
  {
   "cell_type": "code",
   "execution_count": 151,
   "metadata": {},
   "outputs": [],
   "source": [
    "hidden_size = 3\n",
    "nchannels = 2\n",
    "dev_layer = development_layer(\n",
    "    input_size=3,\n",
    "    hidden_size=hidden_size,\n",
    "    channels=nchannels,\n",
    "    param=so,\n",
    "    complexification=False,\n",
    "    return_sequence=False,\n",
    ")"
   ]
  },
  {
   "cell_type": "code",
   "execution_count": 152,
   "metadata": {},
   "outputs": [
    {
     "name": "stdout",
     "output_type": "stream",
     "text": [
      "Epoch [1/20], Loss: 1.9914130808891577e-06\n",
      "Epoch [2/20], Loss: 2.9093213177994974e-06\n",
      "Epoch [3/20], Loss: 2.62892850501625e-06\n",
      "Epoch [4/20], Loss: 1.812945971063789e-07\n",
      "Epoch [5/20], Loss: -5.752734775342105e-06\n",
      "Epoch [6/20], Loss: -1.7069476370644614e-05\n",
      "Epoch [7/20], Loss: -3.5138623947854546e-05\n",
      "Epoch [8/20], Loss: -6.652561336925699e-05\n",
      "Epoch [9/20], Loss: -0.00012126594146983343\n",
      "Epoch [10/20], Loss: -0.00022533766760261643\n",
      "Epoch [11/20], Loss: -0.0004385006864612089\n",
      "Epoch [12/20], Loss: -0.000857630077828357\n",
      "Epoch [13/20], Loss: -0.0015585841528995197\n",
      "Epoch [14/20], Loss: -0.002602933593139954\n",
      "Epoch [15/20], Loss: -0.0036237144429426605\n",
      "Epoch [16/20], Loss: -0.004635587286648843\n",
      "Epoch [17/20], Loss: -0.005704555690250995\n",
      "Epoch [18/20], Loss: -0.006785537233218878\n",
      "Epoch [19/20], Loss: -0.007867935281221176\n",
      "Epoch [20/20], Loss: -0.008844925411945951\n"
     ]
    },
    {
     "data": {
      "image/png": "[encoded data removed]",
      "text/plain": [
       "<Figure size 640x480 with 1 Axes>"
      ]
     },
     "metadata": {},
     "output_type": "display_data"
    }
   ],
   "source": [
    "# optimizer = optim.Adam(dev_layer.parameters(), lr=0.002)\n",
    "optimizer = optim.SGD(dev_layer.parameters(), lr=0.0001, momentum=0.99)\n",
    "\n",
    "lossx = train_model_multichannels(\n",
    "    dev_layer, optimizer, train_loader, hidden_size, num_epochs=20, alpha=0.08, beta=0.6\n",
    ")\n",
    "_, ax = plt.subplots()\n",
    "ax.plot(range(len(lossx)), lossx)\n",
    "ax.grid()"
   ]
  },
  {
   "cell_type": "code",
   "execution_count": 153,
   "metadata": {},
   "outputs": [
    {
     "name": "stdout",
     "output_type": "stream",
     "text": [
      "train accuracy :  0.6067736670293797\n",
      "test accuracy :  0.5955208686800135\n"
     ]
    }
   ],
   "source": [
    "dev_layer.eval()\n",
    "\n",
    "dev_train = dev_layer(tsx_train)\n",
    "dt0 = dev_train[y_train == 0]\n",
    "dt1 = dev_train[y_train == 1]\n",
    "dt2 = dev_train[y_train == 2]\n",
    "dt3 = dev_train[y_train == 3]\n",
    "dt4 = dev_train[y_train == 4]\n",
    "dt5 = dev_train[y_train == 5]\n",
    "tau0 = torch.mean(dt0, axis=0)\n",
    "tau1 = torch.mean(dt1, axis=0)\n",
    "tau2 = torch.mean(dt2, axis=0)\n",
    "tau3 = torch.mean(dt3, axis=0)\n",
    "tau4 = torch.mean(dt4, axis=0)\n",
    "tau5 = torch.mean(dt5, axis=0)\n",
    "\n",
    "diff0 = (dev_train - tau0).reshape((len(y_train) * nchannels, hidden_size, hidden_size))\n",
    "diff1 = (dev_train - tau1).reshape((len(y_train) * nchannels, hidden_size, hidden_size))\n",
    "diff2 = (dev_train - tau2).reshape((len(y_train) * nchannels, hidden_size, hidden_size))\n",
    "diff3 = (dev_train - tau3).reshape((len(y_train) * nchannels, hidden_size, hidden_size))\n",
    "diff4 = (dev_train - tau4).reshape((len(y_train) * nchannels, hidden_size, hidden_size))\n",
    "diff5 = (dev_train - tau5).reshape((len(y_train) * nchannels, hidden_size, hidden_size))\n",
    "\n",
    "dd0 = (\n",
    "    torch.swapaxes(diff0, 1, 2)\n",
    "    .bmm(diff1)\n",
    "    .reshape((len(y_train), nchannels, hidden_size, hidden_size))\n",
    "    .diagonal(dim1=2, dim2=3)\n",
    "    .sum(-1)\n",
    "    .sum(-1)\n",
    ")\n",
    "dd1 = (\n",
    "    torch.swapaxes(diff1, 1, 2)\n",
    "    .bmm(diff1)\n",
    "    .reshape((len(y_train), nchannels, hidden_size, hidden_size))\n",
    "    .diagonal(dim1=2, dim2=3)\n",
    "    .sum(-1)\n",
    "    .sum(-1)\n",
    ")\n",
    "dd2 = (\n",
    "    torch.swapaxes(diff2, 1, 2)\n",
    "    .bmm(diff2)\n",
    "    .reshape((len(y_train), nchannels, hidden_size, hidden_size))\n",
    "    .diagonal(dim1=2, dim2=3)\n",
    "    .sum(-1)\n",
    "    .sum(-1)\n",
    ")\n",
    "dd3 = (\n",
    "    torch.swapaxes(diff3, 1, 2)\n",
    "    .bmm(diff2)\n",
    "    .reshape((len(y_train), nchannels, hidden_size, hidden_size))\n",
    "    .diagonal(dim1=2, dim2=3)\n",
    "    .sum(-1)\n",
    "    .sum(-1)\n",
    ")\n",
    "dd4 = (\n",
    "    torch.swapaxes(diff4, 1, 2)\n",
    "    .bmm(diff2)\n",
    "    .reshape((len(y_train), nchannels, hidden_size, hidden_size))\n",
    "    .diagonal(dim1=2, dim2=3)\n",
    "    .sum(-1)\n",
    "    .sum(-1)\n",
    ")\n",
    "dd5 = (\n",
    "    torch.swapaxes(diff5, 1, 2)\n",
    "    .bmm(diff2)\n",
    "    .reshape((len(y_train), nchannels, hidden_size, hidden_size))\n",
    "    .diagonal(dim1=2, dim2=3)\n",
    "    .sum(-1)\n",
    "    .sum(-1)\n",
    ")\n",
    "\n",
    "dd = torch.stack([dd0, dd1, dd2, dd3, dd4, dd5])\n",
    "c = dd.argmin(dim=0)\n",
    "print(\"train accuracy : \", (y_train == c).sum().numpy() / len(y_train))\n",
    "\n",
    "dev_test = dev_layer(tsx_test)\n",
    "\n",
    "diff0 = (dev_test - tau0).reshape((len(y_test) * nchannels, hidden_size, hidden_size))\n",
    "diff1 = (dev_test - tau1).reshape((len(y_test) * nchannels, hidden_size, hidden_size))\n",
    "diff2 = (dev_test - tau2).reshape((len(y_test) * nchannels, hidden_size, hidden_size))\n",
    "diff3 = (dev_test - tau3).reshape((len(y_test) * nchannels, hidden_size, hidden_size))\n",
    "diff4 = (dev_test - tau4).reshape((len(y_test) * nchannels, hidden_size, hidden_size))\n",
    "diff5 = (dev_test - tau5).reshape((len(y_test) * nchannels, hidden_size, hidden_size))\n",
    "\n",
    "dd0 = (\n",
    "    torch.swapaxes(diff0, 1, 2)\n",
    "    .bmm(diff1)\n",
    "    .reshape((len(y_test), nchannels, hidden_size, hidden_size))\n",
    "    .diagonal(dim1=2, dim2=3)\n",
    "    .sum(-1)\n",
    "    .sum(-1)\n",
    ")\n",
    "dd1 = (\n",
    "    torch.swapaxes(diff1, 1, 2)\n",
    "    .bmm(diff1)\n",
    "    .reshape((len(y_test), nchannels, hidden_size, hidden_size))\n",
    "    .diagonal(dim1=2, dim2=3)\n",
    "    .sum(-1)\n",
    "    .sum(-1)\n",
    ")\n",
    "dd2 = (\n",
    "    torch.swapaxes(diff2, 1, 2)\n",
    "    .bmm(diff2)\n",
    "    .reshape((len(y_test), nchannels, hidden_size, hidden_size))\n",
    "    .diagonal(dim1=2, dim2=3)\n",
    "    .sum(-1)\n",
    "    .sum(-1)\n",
    ")\n",
    "dd3 = (\n",
    "    torch.swapaxes(diff3, 1, 2)\n",
    "    .bmm(diff2)\n",
    "    .reshape((len(y_test), nchannels, hidden_size, hidden_size))\n",
    "    .diagonal(dim1=2, dim2=3)\n",
    "    .sum(-1)\n",
    "    .sum(-1)\n",
    ")\n",
    "dd4 = (\n",
    "    torch.swapaxes(diff4, 1, 2)\n",
    "    .bmm(diff2)\n",
    "    .reshape((len(y_test), nchannels, hidden_size, hidden_size))\n",
    "    .diagonal(dim1=2, dim2=3)\n",
    "    .sum(-1)\n",
    "    .sum(-1)\n",
    ")\n",
    "dd5 = (\n",
    "    torch.swapaxes(diff5, 1, 2)\n",
    "    .bmm(diff2)\n",
    "    .reshape((len(y_test), nchannels, hidden_size, hidden_size))\n",
    "    .diagonal(dim1=2, dim2=3)\n",
    "    .sum(-1)\n",
    "    .sum(-1)\n",
    ")\n",
    "\n",
    "dd_test = torch.stack([dd0, dd1, dd2, dd3, dd4, dd5])\n",
    "c_test = dd_test.argmin(dim=0)\n",
    "print(\"test accuracy : \", (y_test.numpy() == c_test.numpy()).sum() / len(y_test))"
   ]
  },
  {
   "cell_type": "code",
   "execution_count": 154,
   "metadata": {},
   "outputs": [
    {
     "data": {
      "text/plain": [
       "<sklearn.metrics._plot.confusion_matrix.ConfusionMatrixDisplay at 0x1f12c60aa40>"
      ]
     },
     "execution_count": 154,
     "metadata": {},
     "output_type": "execute_result"
    },
    {
     "data": {
      "image/png": "[encoded data removed]",
      "text/plain": [
       "<Figure size 640x480 with 2 Axes>"
      ]
     },
     "metadata": {},
     "output_type": "display_data"
    }
   ],
   "source": [
    "cm = confusion_matrix(y_train, c)\n",
    "ConfusionMatrixDisplay(cm).plot()"
   ]
  },
  {
   "cell_type": "code",
   "execution_count": 155,
   "metadata": {},
   "outputs": [
    {
     "data": {
      "text/plain": [
       "<sklearn.metrics._plot.confusion_matrix.ConfusionMatrixDisplay at 0x1f12d01ba90>"
      ]
     },
     "execution_count": 155,
     "metadata": {},
     "output_type": "execute_result"
    },
    {
     "data": {
      "image/png": "[encoded data removed]",
      "text/plain": [
       "<Figure size 640x480 with 2 Axes>"
      ]
     },
     "metadata": {},
     "output_type": "display_data"
    }
   ],
   "source": [
    "cm_test = confusion_matrix(y_test, c_test)\n",
    "ConfusionMatrixDisplay(cm_test).plot()"
   ]
  },
  {
   "cell_type": "markdown",
   "metadata": {},
   "source": [
    "## Multi-Head path development model"
   ]
  },
  {
   "cell_type": "code",
   "execution_count": 5,
   "metadata": {},
   "outputs": [],
   "source": [
    "from models.attention_development import MultiheadAttentionDevelopment, GroupConfig, AttentionDevelopmentConfig\n",
    "\n",
    "from development.so import so\n",
    "from development.he import he\n",
    "from development.gl import gl\n"
   ]
  },
  {
   "cell_type": "code",
   "execution_count": 6,
   "metadata": {},
   "outputs": [
    {
     "data": {
      "text/plain": [
       "(2, torch.Size([10, 3, 4, 4]), torch.Size([10, 3, 4, 4]))"
      ]
     },
     "execution_count": 6,
     "metadata": {},
     "output_type": "execute_result"
    }
   ],
   "source": [
    "multidev_config = AttentionDevelopmentConfig(\n",
    "    n_heads=2,\n",
    "    groups=[\n",
    "        GroupConfig(group=so, dim=4, channels=3),\n",
    "        GroupConfig(group=so, dim=4, channels=3),\n",
    "    ]\n",
    ")\n",
    "\n",
    "model = MultiheadAttentionDevelopment(\n",
    "    dropout=0.1,\n",
    "    input_dim=3,\n",
    "    hidden_dim=6,\n",
    "    multidev_config=multidev_config\n",
    ")\n",
    "\n",
    "x = torch.randn((10, 100, 3))\n",
    "out = model(x)\n",
    "len(out), out[0].shape, out[1].shape\n"
   ]
  },
  {
   "cell_type": "code",
   "execution_count": 24,
   "metadata": {},
   "outputs": [
    {
     "data": {
      "text/plain": [
       "(torch.Size([1000, 3, 4, 4]), torch.Size([1000, 3, 4, 4]))"
      ]
     },
     "execution_count": 24,
     "metadata": {},
     "output_type": "execute_result"
    }
   ],
   "source": [
    "# tsx_train = torch.Tensor(tsx_train.swapaxes(1, 2))\n",
    "batch_size = 1000\n",
    "s1, s2 = model(tsx_train[:batch_size])\n",
    "s1.shape, s2.shape"
   ]
  },
  {
   "cell_type": "code",
   "execution_count": 25,
   "metadata": {},
   "outputs": [
    {
     "data": {
      "text/plain": [
       "tensor([[-0.3665, -0.8838,  0.0715,  0.4644,  0.0481,  0.1978],\n",
       "        [-0.3626, -0.8827,  0.0720,  0.4649,  0.0416,  0.1937],\n",
       "        [-0.3648, -0.8838,  0.0710,  0.4643,  0.0452,  0.1962],\n",
       "        ...,\n",
       "        [-0.3645, -0.8838,  0.0730,  0.4650,  0.0462,  0.1961],\n",
       "        [-0.3660, -0.8846,  0.0716,  0.4644,  0.0477,  0.1980],\n",
       "        [-0.3649, -0.8830,  0.0720,  0.4651,  0.0454,  0.1964]],\n",
       "       grad_fn=<AddBackward0>)"
      ]
     },
     "execution_count": 25,
     "metadata": {},
     "output_type": "execute_result"
    }
   ],
   "source": [
    "n_class = 6\n",
    "\n",
    "l1 = nn.Linear(3*4*4, n_class)\n",
    "l2 = nn.Linear(3*4*4, n_class)\n",
    "\n",
    "x1 = l1(s1.view(len(s1), -1))\n",
    "x2 = l2(s2.view(len(s2), -1))\n",
    "y = x1 + x2\n",
    "y"
   ]
  },
  {
   "cell_type": "code",
   "execution_count": 57,
   "metadata": {},
   "outputs": [],
   "source": [
    "class FullModel(nn.Module):\n",
    "\n",
    "    def __init__(\n",
    "            self,\n",
    "            dropout:float,\n",
    "            input_dim:int,\n",
    "            hidden_dim:int,\n",
    "            out_dim:int,\n",
    "            multidev_config:AttentionDevelopmentConfig\n",
    "            ):\n",
    "        super().__init__()\n",
    "        self.atdev = MultiheadAttentionDevelopment(\n",
    "            dropout=dropout,\n",
    "            input_dim=input_dim,\n",
    "            hidden_dim=hidden_dim,\n",
    "            multidev_config=multidev_config\n",
    "        )\n",
    "        in_dim1 = multidev_config.groups[0].channels*multidev_config.groups[0].dim**2\n",
    "        in_dim2 = multidev_config.groups[0].channels*multidev_config.groups[1].dim**2\n",
    "        self.l1 = nn.Linear(in_dim1, out_dim)\n",
    "        self.l2 = nn.Linear(in_dim2, out_dim)\n",
    "\n",
    "\n",
    "    def forward_partial(self, x:Tensor):\n",
    "        s1, s2 = self.atdev(x)\n",
    "        return s1, s2\n",
    "        \n",
    "\n",
    "    def forward(self, x:Tensor):\n",
    "        s1, s2 = self.atdev(x)\n",
    "        y1 = self.l1(s1.view(len(s1), -1))\n",
    "        y2 = self.l2(s2.view(len(s2), -1))\n",
    "        # return self.soft(y1 - y2)\n",
    "        return y1 + y2\n",
    "    "
   ]
  },
  {
   "cell_type": "code",
   "execution_count": 39,
   "metadata": {},
   "outputs": [
    {
     "data": {
      "text/plain": [
       "tensor([[-0.0163,  0.1846, -0.2145,  0.1258, -0.1867,  0.1898],\n",
       "        [-0.0174,  0.1858, -0.2140,  0.1253, -0.1860,  0.1899],\n",
       "        [-0.0165,  0.1850, -0.2141,  0.1258, -0.1858,  0.1899],\n",
       "        [-0.0158,  0.1848, -0.2141,  0.1259, -0.1861,  0.1896],\n",
       "        [-0.0173,  0.1859, -0.2137,  0.1254, -0.1859,  0.1902],\n",
       "        [-0.0173,  0.1861, -0.2139,  0.1258, -0.1874,  0.1905],\n",
       "        [-0.0158,  0.1849, -0.2141,  0.1261, -0.1866,  0.1897],\n",
       "        [-0.0174,  0.1856, -0.2139,  0.1255, -0.1857,  0.1903],\n",
       "        [-0.0182,  0.1859, -0.2140,  0.1254, -0.1862,  0.1908],\n",
       "        [-0.0172,  0.1848, -0.2143,  0.1255, -0.1852,  0.1901],\n",
       "        [-0.0160,  0.1846, -0.2143,  0.1259, -0.1861,  0.1895],\n",
       "        [-0.0162,  0.1849, -0.2142,  0.1259, -0.1861,  0.1897],\n",
       "        [-0.0161,  0.1851, -0.2142,  0.1261, -0.1869,  0.1897],\n",
       "        [-0.0168,  0.1851, -0.2139,  0.1252, -0.1850,  0.1898],\n",
       "        [-0.0154,  0.1848, -0.2141,  0.1259, -0.1864,  0.1893],\n",
       "        [-0.0163,  0.1850, -0.2141,  0.1257, -0.1858,  0.1897],\n",
       "        [-0.0165,  0.1849, -0.2143,  0.1258, -0.1867,  0.1900],\n",
       "        [-0.0163,  0.1844, -0.2144,  0.1259, -0.1865,  0.1902],\n",
       "        [-0.0183,  0.1856, -0.2142,  0.1253, -0.1858,  0.1906],\n",
       "        [-0.0180,  0.1862, -0.2139,  0.1253, -0.1866,  0.1905],\n",
       "        [-0.0171,  0.1857, -0.2138,  0.1256, -0.1854,  0.1901],\n",
       "        [-0.0165,  0.1853, -0.2138,  0.1257, -0.1854,  0.1899],\n",
       "        [-0.0160,  0.1853, -0.2139,  0.1259, -0.1864,  0.1897],\n",
       "        [-0.0173,  0.1851, -0.2143,  0.1257, -0.1862,  0.1903],\n",
       "        [-0.0163,  0.1845, -0.2142,  0.1255, -0.1853,  0.1897],\n",
       "        [-0.0182,  0.1865, -0.2138,  0.1253, -0.1861,  0.1905],\n",
       "        [-0.0169,  0.1854, -0.2141,  0.1256, -0.1862,  0.1900],\n",
       "        [-0.0163,  0.1850, -0.2140,  0.1258, -0.1859,  0.1900],\n",
       "        [-0.0173,  0.1859, -0.2136,  0.1255, -0.1860,  0.1904],\n",
       "        [-0.0178,  0.1854, -0.2140,  0.1255, -0.1855,  0.1906],\n",
       "        [-0.0159,  0.1846, -0.2144,  0.1260, -0.1864,  0.1896],\n",
       "        [-0.0164,  0.1845, -0.2145,  0.1258, -0.1858,  0.1898],\n",
       "        [-0.0172,  0.1849, -0.2142,  0.1256, -0.1852,  0.1901],\n",
       "        [-0.0168,  0.1850, -0.2143,  0.1252, -0.1852,  0.1894],\n",
       "        [-0.0158,  0.1848, -0.2142,  0.1260, -0.1865,  0.1897],\n",
       "        [-0.0163,  0.1850, -0.2142,  0.1258, -0.1859,  0.1897],\n",
       "        [-0.0161,  0.1851, -0.2140,  0.1258, -0.1861,  0.1896],\n",
       "        [-0.0170,  0.1853, -0.2142,  0.1256, -0.1861,  0.1900],\n",
       "        [-0.0159,  0.1848, -0.2143,  0.1260, -0.1864,  0.1896],\n",
       "        [-0.0164,  0.1849, -0.2139,  0.1256, -0.1853,  0.1900],\n",
       "        [-0.0166,  0.1851, -0.2141,  0.1257, -0.1853,  0.1898],\n",
       "        [-0.0190,  0.1864, -0.2139,  0.1250, -0.1856,  0.1907],\n",
       "        [-0.0168,  0.1858, -0.2137,  0.1258, -0.1869,  0.1904],\n",
       "        [-0.0154,  0.1842, -0.2144,  0.1260, -0.1859,  0.1893],\n",
       "        [-0.0155,  0.1848, -0.2143,  0.1262, -0.1871,  0.1895],\n",
       "        [-0.0162,  0.1853, -0.2136,  0.1256, -0.1848,  0.1897],\n",
       "        [-0.0188,  0.1866, -0.2138,  0.1252, -0.1869,  0.1910],\n",
       "        [-0.0162,  0.1849, -0.2142,  0.1259, -0.1862,  0.1897],\n",
       "        [-0.0156,  0.1845, -0.2144,  0.1261, -0.1864,  0.1894],\n",
       "        [-0.0168,  0.1849, -0.2143,  0.1254, -0.1862,  0.1899],\n",
       "        [-0.0164,  0.1849, -0.2143,  0.1260, -0.1866,  0.1900],\n",
       "        [-0.0169,  0.1851, -0.2142,  0.1256, -0.1861,  0.1900],\n",
       "        [-0.0173,  0.1855, -0.2139,  0.1254, -0.1860,  0.1903],\n",
       "        [-0.0179,  0.1859, -0.2140,  0.1255, -0.1862,  0.1905],\n",
       "        [-0.0171,  0.1864, -0.2133,  0.1239, -0.1839,  0.1887],\n",
       "        [-0.0163,  0.1848, -0.2144,  0.1257, -0.1861,  0.1895],\n",
       "        [-0.0169,  0.1855, -0.2139,  0.1256, -0.1858,  0.1900],\n",
       "        [-0.0162,  0.1849, -0.2140,  0.1259, -0.1858,  0.1900],\n",
       "        [-0.0162,  0.1856, -0.2139,  0.1258, -0.1864,  0.1896],\n",
       "        [-0.0172,  0.1855, -0.2141,  0.1256, -0.1856,  0.1901],\n",
       "        [-0.0174,  0.1852, -0.2141,  0.1256, -0.1857,  0.1904],\n",
       "        [-0.0159,  0.1846, -0.2144,  0.1259, -0.1862,  0.1894],\n",
       "        [-0.0170,  0.1858, -0.2140,  0.1257, -0.1868,  0.1901],\n",
       "        [-0.0168,  0.1854, -0.2139,  0.1257, -0.1860,  0.1901],\n",
       "        [-0.0168,  0.1855, -0.2139,  0.1257, -0.1857,  0.1901],\n",
       "        [-0.0179,  0.1861, -0.2139,  0.1255, -0.1863,  0.1905],\n",
       "        [-0.0171,  0.1860, -0.2138,  0.1256, -0.1864,  0.1901],\n",
       "        [-0.0155,  0.1846, -0.2142,  0.1259, -0.1862,  0.1893],\n",
       "        [-0.0164,  0.1850, -0.2141,  0.1259, -0.1861,  0.1899],\n",
       "        [-0.0170,  0.1858, -0.2140,  0.1257, -0.1867,  0.1901],\n",
       "        [-0.0166,  0.1848, -0.2137,  0.1257, -0.1858,  0.1906],\n",
       "        [-0.0178,  0.1861, -0.2136,  0.1255, -0.1860,  0.1908],\n",
       "        [-0.0189,  0.1859, -0.2140,  0.1251, -0.1853,  0.1910],\n",
       "        [-0.0161,  0.1848, -0.2142,  0.1259, -0.1864,  0.1898],\n",
       "        [-0.0166,  0.1854, -0.2141,  0.1258, -0.1862,  0.1897],\n",
       "        [-0.0173,  0.1845, -0.2145,  0.1256, -0.1857,  0.1903],\n",
       "        [-0.0153,  0.1847, -0.2143,  0.1262, -0.1869,  0.1894],\n",
       "        [-0.0174,  0.1856, -0.2141,  0.1256, -0.1866,  0.1904],\n",
       "        [-0.0156,  0.1844, -0.2143,  0.1260, -0.1861,  0.1895],\n",
       "        [-0.0163,  0.1851, -0.2140,  0.1255, -0.1853,  0.1896],\n",
       "        [-0.0157,  0.1845, -0.2143,  0.1257, -0.1855,  0.1892],\n",
       "        [-0.0183,  0.1860, -0.2139,  0.1253, -0.1853,  0.1906],\n",
       "        [-0.0154,  0.1844, -0.2145,  0.1261, -0.1862,  0.1892],\n",
       "        [-0.0165,  0.1848, -0.2139,  0.1254, -0.1844,  0.1897],\n",
       "        [-0.0166,  0.1842, -0.2143,  0.1255, -0.1860,  0.1902],\n",
       "        [-0.0167,  0.1854, -0.2141,  0.1258, -0.1862,  0.1899],\n",
       "        [-0.0195,  0.1875, -0.2133,  0.1249, -0.1863,  0.1914],\n",
       "        [-0.0181,  0.1863, -0.2137,  0.1254, -0.1863,  0.1907],\n",
       "        [-0.0169,  0.1849, -0.2143,  0.1257, -0.1858,  0.1900],\n",
       "        [-0.0176,  0.1856, -0.2141,  0.1254, -0.1857,  0.1901],\n",
       "        [-0.0154,  0.1846, -0.2144,  0.1260, -0.1869,  0.1893],\n",
       "        [-0.0171,  0.1857, -0.2138,  0.1257, -0.1863,  0.1904],\n",
       "        [-0.0162,  0.1850, -0.2142,  0.1257, -0.1858,  0.1895],\n",
       "        [-0.0161,  0.1848, -0.2142,  0.1259, -0.1860,  0.1897],\n",
       "        [-0.0145,  0.1842, -0.2143,  0.1262, -0.1865,  0.1890],\n",
       "        [-0.0181,  0.1861, -0.2138,  0.1252, -0.1852,  0.1905],\n",
       "        [-0.0147,  0.1845, -0.2143,  0.1264, -0.1871,  0.1892],\n",
       "        [-0.0182,  0.1856, -0.2140,  0.1253, -0.1853,  0.1906],\n",
       "        [-0.0169,  0.1856, -0.2137,  0.1256, -0.1856,  0.1901],\n",
       "        [-0.0177,  0.1860, -0.2139,  0.1256, -0.1867,  0.1905],\n",
       "        [-0.0147,  0.1848, -0.2141,  0.1264, -0.1870,  0.1892],\n",
       "        [-0.0156,  0.1847, -0.2140,  0.1263, -0.1860,  0.1898],\n",
       "        [-0.0171,  0.1858, -0.2138,  0.1257, -0.1863,  0.1902],\n",
       "        [-0.0171,  0.1851, -0.2143,  0.1258, -0.1859,  0.1902],\n",
       "        [-0.0163,  0.1852, -0.2138,  0.1258, -0.1855,  0.1900],\n",
       "        [-0.0166,  0.1854, -0.2139,  0.1259, -0.1862,  0.1900],\n",
       "        [-0.0156,  0.1851, -0.2140,  0.1260, -0.1868,  0.1895],\n",
       "        [-0.0179,  0.1858, -0.2140,  0.1253, -0.1860,  0.1905],\n",
       "        [-0.0158,  0.1847, -0.2143,  0.1260, -0.1863,  0.1895],\n",
       "        [-0.0177,  0.1858, -0.2138,  0.1256, -0.1858,  0.1907],\n",
       "        [-0.0174,  0.1854, -0.2142,  0.1256, -0.1867,  0.1903],\n",
       "        [-0.0166,  0.1852, -0.2139,  0.1260, -0.1861,  0.1903],\n",
       "        [-0.0153,  0.1848, -0.2140,  0.1261, -0.1863,  0.1895],\n",
       "        [-0.0187,  0.1861, -0.2138,  0.1252, -0.1859,  0.1911],\n",
       "        [-0.0164,  0.1854, -0.2139,  0.1259, -0.1864,  0.1899],\n",
       "        [-0.0171,  0.1855, -0.2140,  0.1260, -0.1866,  0.1906],\n",
       "        [-0.0146,  0.1849, -0.2141,  0.1262, -0.1867,  0.1887],\n",
       "        [-0.0155,  0.1847, -0.2142,  0.1263, -0.1873,  0.1898],\n",
       "        [-0.0166,  0.1852, -0.2141,  0.1259, -0.1868,  0.1901],\n",
       "        [-0.0186,  0.1860, -0.2140,  0.1251, -0.1856,  0.1907],\n",
       "        [-0.0171,  0.1859, -0.2138,  0.1255, -0.1859,  0.1900],\n",
       "        [-0.0163,  0.1850, -0.2142,  0.1259, -0.1863,  0.1898],\n",
       "        [-0.0180,  0.1863, -0.2135,  0.1254, -0.1858,  0.1908],\n",
       "        [-0.0178,  0.1858, -0.2139,  0.1254, -0.1856,  0.1904],\n",
       "        [-0.0172,  0.1854, -0.2138,  0.1255, -0.1854,  0.1903],\n",
       "        [-0.0176,  0.1865, -0.2136,  0.1256, -0.1859,  0.1904],\n",
       "        [-0.0160,  0.1850, -0.2138,  0.1259, -0.1858,  0.1899],\n",
       "        [-0.0164,  0.1848, -0.2142,  0.1258, -0.1860,  0.1899]],\n",
       "       grad_fn=<AddBackward0>)"
      ]
     },
     "execution_count": 39,
     "metadata": {},
     "output_type": "execute_result"
    }
   ],
   "source": [
    "n_class = 6\n",
    "batch_size=128\n",
    "fm = FullModel(\n",
    "    dropout=.05,\n",
    "    input_dim=3,\n",
    "    hidden_dim=6,\n",
    "    out_dim=n_class,\n",
    "    multidev_config=multidev_config\n",
    "    )\n",
    "\n",
    "z = fm(tsx_train[:batch_size])\n",
    "z"
   ]
  },
  {
   "cell_type": "code",
   "execution_count": 40,
   "metadata": {},
   "outputs": [],
   "source": [
    "loss = z - y_train[:batch_size]"
   ]
  },
  {
   "cell_type": "code",
   "execution_count": 41,
   "metadata": {},
   "outputs": [
    {
     "data": {
      "text/plain": [
       "(torch.Size([7352, 206, 3]), torch.Size([7352, 6]))"
      ]
     },
     "execution_count": 41,
     "metadata": {},
     "output_type": "execute_result"
    }
   ],
   "source": [
    "tsx_train.shape, y_train.shape"
   ]
  },
  {
   "cell_type": "code",
   "execution_count": 42,
   "metadata": {},
   "outputs": [
    {
     "data": {
      "text/plain": [
       "False"
      ]
     },
     "execution_count": 42,
     "metadata": {},
     "output_type": "execute_result"
    }
   ],
   "source": [
    "torch.cuda.is_available()"
   ]
  },
  {
   "cell_type": "code",
   "execution_count": 43,
   "metadata": {},
   "outputs": [
    {
     "name": "stdout",
     "output_type": "stream",
     "text": [
      "Number of batches: 58\n"
     ]
    }
   ],
   "source": [
    "# Define batch size\n",
    "batch_size = 128\n",
    "\n",
    "# Create DataLoader for training data\n",
    "train_dataset = torch.utils.data.TensorDataset(tsx_train, y_train)\n",
    "train_loader = torch.utils.data.DataLoader(train_dataset, batch_size=batch_size, shuffle=True)\n",
    "\n",
    "print(f\"Number of batches: {len(train_loader)}\")\n"
   ]
  },
  {
   "cell_type": "code",
   "execution_count": 44,
   "metadata": {},
   "outputs": [
    {
     "name": "stderr",
     "output_type": "stream",
     "text": [
      "100%|██████████| 58/58 [00:21<00:00,  2.71it/s]\n"
     ]
    },
    {
     "name": "stdout",
     "output_type": "stream",
     "text": [
      "Epoch : 0 | Loss 93.11943817138672 | gradient 0.0\n"
     ]
    },
    {
     "name": "stderr",
     "output_type": "stream",
     "text": [
      "100%|██████████| 58/58 [00:21<00:00,  2.67it/s]\n"
     ]
    },
    {
     "name": "stdout",
     "output_type": "stream",
     "text": [
      "Epoch : 1 | Loss 62.304988861083984 | gradient 0.0\n"
     ]
    },
    {
     "name": "stderr",
     "output_type": "stream",
     "text": [
      "100%|██████████| 58/58 [00:23<00:00,  2.45it/s]\n"
     ]
    },
    {
     "name": "stdout",
     "output_type": "stream",
     "text": [
      "Epoch : 2 | Loss 58.742713928222656 | gradient 0.0\n"
     ]
    },
    {
     "name": "stderr",
     "output_type": "stream",
     "text": [
      "100%|██████████| 58/58 [00:30<00:00,  1.92it/s]\n"
     ]
    },
    {
     "name": "stdout",
     "output_type": "stream",
     "text": [
      "Epoch : 3 | Loss 56.84273910522461 | gradient 0.0\n"
     ]
    },
    {
     "name": "stderr",
     "output_type": "stream",
     "text": [
      "100%|██████████| 58/58 [00:31<00:00,  1.84it/s]\n"
     ]
    },
    {
     "name": "stdout",
     "output_type": "stream",
     "text": [
      "Epoch : 4 | Loss 54.7042350769043 | gradient 0.0\n"
     ]
    },
    {
     "name": "stderr",
     "output_type": "stream",
     "text": [
      "100%|██████████| 58/58 [00:34<00:00,  1.70it/s]\n"
     ]
    },
    {
     "name": "stdout",
     "output_type": "stream",
     "text": [
      "Epoch : 5 | Loss 52.47516632080078 | gradient 0.0\n"
     ]
    },
    {
     "name": "stderr",
     "output_type": "stream",
     "text": [
      "100%|██████████| 58/58 [00:30<00:00,  1.88it/s]\n"
     ]
    },
    {
     "name": "stdout",
     "output_type": "stream",
     "text": [
      "Epoch : 6 | Loss 52.24007797241211 | gradient 0.0\n"
     ]
    },
    {
     "name": "stderr",
     "output_type": "stream",
     "text": [
      "100%|██████████| 58/58 [00:28<00:00,  2.05it/s]\n"
     ]
    },
    {
     "name": "stdout",
     "output_type": "stream",
     "text": [
      "Epoch : 7 | Loss 45.15206527709961 | gradient 0.0\n"
     ]
    },
    {
     "name": "stderr",
     "output_type": "stream",
     "text": [
      "100%|██████████| 58/58 [00:25<00:00,  2.27it/s]\n"
     ]
    },
    {
     "name": "stdout",
     "output_type": "stream",
     "text": [
      "Epoch : 8 | Loss 41.78882598876953 | gradient 0.0\n"
     ]
    },
    {
     "name": "stderr",
     "output_type": "stream",
     "text": [
      "100%|██████████| 58/58 [00:29<00:00,  1.98it/s]\n"
     ]
    },
    {
     "name": "stdout",
     "output_type": "stream",
     "text": [
      "Epoch : 9 | Loss 31.073612213134766 | gradient 0.0\n"
     ]
    },
    {
     "name": "stderr",
     "output_type": "stream",
     "text": [
      "100%|██████████| 58/58 [00:28<00:00,  2.06it/s]\n"
     ]
    },
    {
     "name": "stdout",
     "output_type": "stream",
     "text": [
      "Epoch : 10 | Loss 32.97072982788086 | gradient 0.0\n"
     ]
    },
    {
     "name": "stderr",
     "output_type": "stream",
     "text": [
      "100%|██████████| 58/58 [00:29<00:00,  2.00it/s]\n"
     ]
    },
    {
     "name": "stdout",
     "output_type": "stream",
     "text": [
      "Epoch : 11 | Loss 29.461261749267578 | gradient 0.0\n"
     ]
    },
    {
     "name": "stderr",
     "output_type": "stream",
     "text": [
      "100%|██████████| 58/58 [00:28<00:00,  2.03it/s]\n"
     ]
    },
    {
     "name": "stdout",
     "output_type": "stream",
     "text": [
      "Epoch : 12 | Loss 31.61197853088379 | gradient 0.0\n"
     ]
    },
    {
     "name": "stderr",
     "output_type": "stream",
     "text": [
      "100%|██████████| 58/58 [00:27<00:00,  2.10it/s]\n"
     ]
    },
    {
     "name": "stdout",
     "output_type": "stream",
     "text": [
      "Epoch : 13 | Loss 26.339067459106445 | gradient 0.0\n"
     ]
    },
    {
     "name": "stderr",
     "output_type": "stream",
     "text": [
      "100%|██████████| 58/58 [00:29<00:00,  1.96it/s]\n"
     ]
    },
    {
     "name": "stdout",
     "output_type": "stream",
     "text": [
      "Epoch : 14 | Loss 28.36521339416504 | gradient 0.0\n"
     ]
    },
    {
     "name": "stderr",
     "output_type": "stream",
     "text": [
      "100%|██████████| 58/58 [00:30<00:00,  1.92it/s]\n"
     ]
    },
    {
     "name": "stdout",
     "output_type": "stream",
     "text": [
      "Epoch : 15 | Loss 25.933086395263672 | gradient 0.0\n"
     ]
    },
    {
     "name": "stderr",
     "output_type": "stream",
     "text": [
      "100%|██████████| 58/58 [00:28<00:00,  2.01it/s]\n"
     ]
    },
    {
     "name": "stdout",
     "output_type": "stream",
     "text": [
      "Epoch : 16 | Loss 24.415422439575195 | gradient 0.0\n"
     ]
    },
    {
     "name": "stderr",
     "output_type": "stream",
     "text": [
      "100%|██████████| 58/58 [00:29<00:00,  1.98it/s]\n"
     ]
    },
    {
     "name": "stdout",
     "output_type": "stream",
     "text": [
      "Epoch : 17 | Loss 25.952390670776367 | gradient 0.0\n"
     ]
    },
    {
     "name": "stderr",
     "output_type": "stream",
     "text": [
      "100%|██████████| 58/58 [00:28<00:00,  2.01it/s]\n"
     ]
    },
    {
     "name": "stdout",
     "output_type": "stream",
     "text": [
      "Epoch : 18 | Loss 22.345958709716797 | gradient 0.0\n"
     ]
    },
    {
     "name": "stderr",
     "output_type": "stream",
     "text": [
      "100%|██████████| 58/58 [00:28<00:00,  2.03it/s]\n"
     ]
    },
    {
     "name": "stdout",
     "output_type": "stream",
     "text": [
      "Epoch : 19 | Loss 24.088598251342773 | gradient 0.0\n"
     ]
    },
    {
     "name": "stderr",
     "output_type": "stream",
     "text": [
      "100%|██████████| 58/58 [00:30<00:00,  1.93it/s]\n"
     ]
    },
    {
     "name": "stdout",
     "output_type": "stream",
     "text": [
      "Epoch : 20 | Loss 21.813705444335938 | gradient 0.0\n"
     ]
    },
    {
     "name": "stderr",
     "output_type": "stream",
     "text": [
      "100%|██████████| 58/58 [00:31<00:00,  1.81it/s]\n"
     ]
    },
    {
     "name": "stdout",
     "output_type": "stream",
     "text": [
      "Epoch : 21 | Loss 18.186033248901367 | gradient 0.0\n"
     ]
    },
    {
     "name": "stderr",
     "output_type": "stream",
     "text": [
      "100%|██████████| 58/58 [00:38<00:00,  1.49it/s]\n"
     ]
    },
    {
     "name": "stdout",
     "output_type": "stream",
     "text": [
      "Epoch : 22 | Loss 20.730375289916992 | gradient 0.0\n"
     ]
    },
    {
     "name": "stderr",
     "output_type": "stream",
     "text": [
      "100%|██████████| 58/58 [00:38<00:00,  1.51it/s]\n"
     ]
    },
    {
     "name": "stdout",
     "output_type": "stream",
     "text": [
      "Epoch : 23 | Loss 26.7618408203125 | gradient 0.0\n"
     ]
    },
    {
     "name": "stderr",
     "output_type": "stream",
     "text": [
      "100%|██████████| 58/58 [00:37<00:00,  1.55it/s]\n"
     ]
    },
    {
     "name": "stdout",
     "output_type": "stream",
     "text": [
      "Epoch : 24 | Loss 20.33847427368164 | gradient 0.0\n"
     ]
    },
    {
     "name": "stderr",
     "output_type": "stream",
     "text": [
      "100%|██████████| 58/58 [00:40<00:00,  1.45it/s]\n"
     ]
    },
    {
     "name": "stdout",
     "output_type": "stream",
     "text": [
      "Epoch : 25 | Loss 24.333524703979492 | gradient 0.0\n"
     ]
    },
    {
     "name": "stderr",
     "output_type": "stream",
     "text": [
      "100%|██████████| 58/58 [00:39<00:00,  1.46it/s]\n"
     ]
    },
    {
     "name": "stdout",
     "output_type": "stream",
     "text": [
      "Epoch : 26 | Loss 25.883113861083984 | gradient 0.0\n"
     ]
    },
    {
     "name": "stderr",
     "output_type": "stream",
     "text": [
      "100%|██████████| 58/58 [00:38<00:00,  1.49it/s]\n"
     ]
    },
    {
     "name": "stdout",
     "output_type": "stream",
     "text": [
      "Epoch : 27 | Loss 20.138751983642578 | gradient 0.0\n"
     ]
    },
    {
     "name": "stderr",
     "output_type": "stream",
     "text": [
      "100%|██████████| 58/58 [00:32<00:00,  1.77it/s]\n"
     ]
    },
    {
     "name": "stdout",
     "output_type": "stream",
     "text": [
      "Epoch : 28 | Loss 21.527679443359375 | gradient 0.0\n"
     ]
    },
    {
     "name": "stderr",
     "output_type": "stream",
     "text": [
      "100%|██████████| 58/58 [00:28<00:00,  2.01it/s]"
     ]
    },
    {
     "name": "stdout",
     "output_type": "stream",
     "text": [
      "Epoch : 29 | Loss 15.8489990234375 | gradient 0.0\n"
     ]
    },
    {
     "name": "stderr",
     "output_type": "stream",
     "text": [
      "\n"
     ]
    }
   ],
   "source": [
    "nepochs = 30\n",
    "learning_rate = 1e-3\n",
    "\n",
    "def train_model(nepochs:int, fm: nn.Module):\n",
    "    fm.train()\n",
    "    optimizer = optim.Adam(fm.parameters(), lr=learning_rate)\n",
    "    lossx = []\n",
    "    for epoch in range(nepochs):\n",
    "        for x, y in tqdm(train_loader):\n",
    "            optimizer.zero_grad()\n",
    "            y_hat = fm(x)\n",
    "            loss = torch.sum((y-y_hat)**2) / len(y)\n",
    "            loss.backward()\n",
    "            lossx.append(loss.item())\n",
    "            optimizer.step()\n",
    "\n",
    "        print(f\"Epoch : {epoch} | Loss {lossx[-1]} | gradient {0.}\")\n",
    "    \n",
    "    return fm, lossx\n",
    "\n",
    "fm, lossx = train_model(nepochs, fm)\n",
    "    \n"
   ]
  },
  {
   "cell_type": "code",
   "execution_count": 46,
   "metadata": {},
   "outputs": [
    {
     "data": {
      "image/png": "[encoded data removed]",
      "text/plain": [
       "<Figure size 640x480 with 1 Axes>"
      ]
     },
     "metadata": {},
     "output_type": "display_data"
    }
   ],
   "source": [
    "ax = plt.plot(range(len(lossx)), lossx)\n",
    "# ax.grid()"
   ]
  },
  {
   "cell_type": "code",
   "execution_count": 47,
   "metadata": {},
   "outputs": [],
   "source": [
    "def train_sample_accuracy(fm: nn.Module):\n",
    "    fm.eval()\n",
    "    n_true_prediction = 0\n",
    "    preds, trues = [], []\n",
    "    for x, y in train_loader:\n",
    "        y_hat = fm(x)\n",
    "        y_pred = torch.argmax(y_hat, axis=1)\n",
    "        y_true = torch.argmax(y, axis=1)\n",
    "        n_true_prediction += torch.sum(y_pred == y_true).detach().numpy()\n",
    "        preds = np.concatenate([preds, y_pred.detach().numpy()])\n",
    "        trues = np.concatenate([trues, y_true.detach().numpy()])\n",
    "\n",
    "    cm = confusion_matrix(trues, preds)\n",
    "    ConfusionMatrixDisplay(cm).plot()\n",
    "    return n_true_prediction / len(y_train)"
   ]
  },
  {
   "cell_type": "code",
   "execution_count": 48,
   "metadata": {},
   "outputs": [
    {
     "data": {
      "text/plain": [
       "0.83120239390642"
      ]
     },
     "execution_count": 48,
     "metadata": {},
     "output_type": "execute_result"
    },
    {
     "data": {
      "image/png": "[encoded data removed]",
      "text/plain": [
       "<Figure size 640x480 with 2 Axes>"
      ]
     },
     "metadata": {},
     "output_type": "display_data"
    }
   ],
   "source": [
    "train_acc = train_sample_accuracy(fm)\n",
    "train_acc    "
   ]
  },
  {
   "cell_type": "code",
   "execution_count": 49,
   "metadata": {},
   "outputs": [
    {
     "data": {
      "text/plain": [
       "0.16666666666666666"
      ]
     },
     "execution_count": 49,
     "metadata": {},
     "output_type": "execute_result"
    }
   ],
   "source": [
    "1. / 6"
   ]
  },
  {
   "cell_type": "markdown",
   "metadata": {},
   "source": [
    "### GL"
   ]
  },
  {
   "cell_type": "code",
   "execution_count": 21,
   "metadata": {},
   "outputs": [],
   "source": [
    "class FullModel(nn.Module):\n",
    "\n",
    "    def __init__(\n",
    "            self,\n",
    "            dropout:float,\n",
    "            input_dim:int,\n",
    "            hidden_dim:int,\n",
    "            out_dim:int,\n",
    "            multidev_config:AttentionDevelopmentConfig\n",
    "            ):\n",
    "        super().__init__()\n",
    "        self.atdev = MultiheadAttentionDevelopment(\n",
    "            dropout=dropout,\n",
    "            input_dim=input_dim,\n",
    "            hidden_dim=hidden_dim,\n",
    "            multidev_config=multidev_config\n",
    "        )\n",
    "        in_dim1 = multidev_config.groups[0].channels*multidev_config.groups[0].dim**2\n",
    "        in_dim2 = multidev_config.groups[0].channels*multidev_config.groups[1].dim**2\n",
    "        self.l1 = nn.Linear(in_dim1, out_dim)\n",
    "        self.l2 = nn.Linear(in_dim2, out_dim)\n",
    "        \n",
    "\n",
    "    def forward_partial(self, x:Tensor):\n",
    "        s1, s2 = self.atdev(x)\n",
    "        return s1, s2\n",
    "\n",
    "    def forward(self, x:Tensor):\n",
    "        s1, s2 = self.atdev(x)\n",
    "        y1 = self.l1(s1.view(len(s1), -1))\n",
    "        y2 = self.l2(s2.view(len(s2), -1))\n",
    "        return y1 + y2"
   ]
  },
  {
   "cell_type": "code",
   "execution_count": 22,
   "metadata": {},
   "outputs": [
    {
     "name": "stderr",
     "output_type": "stream",
     "text": [
      "100%|██████████| 58/58 [01:01<00:00,  1.07s/it]\n"
     ]
    },
    {
     "name": "stdout",
     "output_type": "stream",
     "text": [
      "Epoch : 0 | Loss 98.23477935791016 | gradient 0.0\n"
     ]
    },
    {
     "name": "stderr",
     "output_type": "stream",
     "text": [
      "100%|██████████| 58/58 [00:52<00:00,  1.10it/s]\n"
     ]
    },
    {
     "name": "stdout",
     "output_type": "stream",
     "text": [
      "Epoch : 1 | Loss 63.7432975769043 | gradient 0.0\n"
     ]
    },
    {
     "name": "stderr",
     "output_type": "stream",
     "text": [
      "100%|██████████| 58/58 [01:02<00:00,  1.07s/it]\n"
     ]
    },
    {
     "name": "stdout",
     "output_type": "stream",
     "text": [
      "Epoch : 2 | Loss 59.70664596557617 | gradient 0.0\n"
     ]
    },
    {
     "name": "stderr",
     "output_type": "stream",
     "text": [
      "100%|██████████| 58/58 [01:16<00:00,  1.31s/it]\n"
     ]
    },
    {
     "name": "stdout",
     "output_type": "stream",
     "text": [
      "Epoch : 3 | Loss 57.61484909057617 | gradient 0.0\n"
     ]
    },
    {
     "name": "stderr",
     "output_type": "stream",
     "text": [
      "100%|██████████| 58/58 [01:15<00:00,  1.30s/it]\n"
     ]
    },
    {
     "name": "stdout",
     "output_type": "stream",
     "text": [
      "Epoch : 4 | Loss 54.857627868652344 | gradient 0.0\n"
     ]
    },
    {
     "name": "stderr",
     "output_type": "stream",
     "text": [
      "100%|██████████| 58/58 [01:13<00:00,  1.26s/it]\n"
     ]
    },
    {
     "name": "stdout",
     "output_type": "stream",
     "text": [
      "Epoch : 5 | Loss 52.60029220581055 | gradient 0.0\n"
     ]
    },
    {
     "name": "stderr",
     "output_type": "stream",
     "text": [
      "100%|██████████| 58/58 [01:14<00:00,  1.28s/it]\n"
     ]
    },
    {
     "name": "stdout",
     "output_type": "stream",
     "text": [
      "Epoch : 6 | Loss 49.89402770996094 | gradient 0.0\n"
     ]
    },
    {
     "name": "stderr",
     "output_type": "stream",
     "text": [
      "100%|██████████| 58/58 [01:10<00:00,  1.22s/it]\n"
     ]
    },
    {
     "name": "stdout",
     "output_type": "stream",
     "text": [
      "Epoch : 7 | Loss 47.07049560546875 | gradient 0.0\n"
     ]
    },
    {
     "name": "stderr",
     "output_type": "stream",
     "text": [
      "100%|██████████| 58/58 [01:09<00:00,  1.19s/it]\n"
     ]
    },
    {
     "name": "stdout",
     "output_type": "stream",
     "text": [
      "Epoch : 8 | Loss 51.951629638671875 | gradient 0.0\n"
     ]
    },
    {
     "name": "stderr",
     "output_type": "stream",
     "text": [
      "100%|██████████| 58/58 [01:08<00:00,  1.19s/it]\n"
     ]
    },
    {
     "name": "stdout",
     "output_type": "stream",
     "text": [
      "Epoch : 9 | Loss 47.643775939941406 | gradient 0.0\n"
     ]
    },
    {
     "name": "stderr",
     "output_type": "stream",
     "text": [
      "100%|██████████| 58/58 [01:15<00:00,  1.31s/it]\n"
     ]
    },
    {
     "name": "stdout",
     "output_type": "stream",
     "text": [
      "Epoch : 10 | Loss 45.149757385253906 | gradient 0.0\n"
     ]
    },
    {
     "name": "stderr",
     "output_type": "stream",
     "text": [
      "100%|██████████| 58/58 [01:10<00:00,  1.21s/it]\n"
     ]
    },
    {
     "name": "stdout",
     "output_type": "stream",
     "text": [
      "Epoch : 11 | Loss 45.03959655761719 | gradient 0.0\n"
     ]
    },
    {
     "name": "stderr",
     "output_type": "stream",
     "text": [
      "100%|██████████| 58/58 [01:10<00:00,  1.21s/it]\n"
     ]
    },
    {
     "name": "stdout",
     "output_type": "stream",
     "text": [
      "Epoch : 12 | Loss 39.061038970947266 | gradient 0.0\n"
     ]
    },
    {
     "name": "stderr",
     "output_type": "stream",
     "text": [
      "100%|██████████| 58/58 [01:11<00:00,  1.23s/it]\n"
     ]
    },
    {
     "name": "stdout",
     "output_type": "stream",
     "text": [
      "Epoch : 13 | Loss 41.5740852355957 | gradient 0.0\n"
     ]
    },
    {
     "name": "stderr",
     "output_type": "stream",
     "text": [
      "100%|██████████| 58/58 [00:58<00:00,  1.02s/it]"
     ]
    },
    {
     "name": "stdout",
     "output_type": "stream",
     "text": [
      "Epoch : 14 | Loss 36.206459045410156 | gradient 0.0\n"
     ]
    },
    {
     "name": "stderr",
     "output_type": "stream",
     "text": [
      "\n"
     ]
    }
   ],
   "source": [
    "multidev_config = AttentionDevelopmentConfig(\n",
    "    n_heads=2,\n",
    "    groups=[\n",
    "        GroupConfig(group=gl, dim=3, channels=3),\n",
    "        GroupConfig(group=gl, dim=4, channels=3),\n",
    "    ]\n",
    ")\n",
    "fm = FullModel(\n",
    "    dropout=.05,\n",
    "    input_dim=3,\n",
    "    hidden_dim=6,\n",
    "    out_dim=n_class,\n",
    "    multidev_config=multidev_config\n",
    "    )\n",
    "\n",
    "def train_model_l2(nepochs:int, learning_rate:float, fm: nn.Module, alpha:float):\n",
    "    fm.train()\n",
    "    optimizer = optim.Adam(fm.parameters(), lr=learning_rate)\n",
    "    lossx = []\n",
    "    for epoch in range(nepochs):\n",
    "        for x, y in tqdm(train_loader):\n",
    "            optimizer.zero_grad()\n",
    "            y_hat = fm(x)\n",
    "            s1, s2 = fm.forward_partial(x)\n",
    "            loss = torch.sum((y-y_hat)**2) / len(y) \\\n",
    "                    + alpha * torch.linalg.norm(s1) \\\n",
    "                    + alpha * torch.linalg.norm(s2) # norm parameters\n",
    "            loss.backward()\n",
    "            lossx.append(loss.item())\n",
    "            optimizer.step()\n",
    "\n",
    "        print(f\"Epoch : {epoch} | Loss {lossx[-1]} | gradient {0.}\")\n",
    "    \n",
    "    return fm, lossx\n",
    "\n",
    "nepochs = 15\n",
    "learning_rate = 1e-3\n",
    "alpha = 1e-2\n",
    "fm, lossx = train_model_l2(nepochs, learning_rate, fm, alpha)"
   ]
  },
  {
   "cell_type": "code",
   "execution_count": 23,
   "metadata": {},
   "outputs": [
    {
     "data": {
      "text/plain": [
       "[<matplotlib.lines.Line2D at 0x172beddaf40>]"
      ]
     },
     "execution_count": 23,
     "metadata": {},
     "output_type": "execute_result"
    },
    {
     "data": {
      "image/png": "[encoded data removed]",
      "text/plain": [
       "<Figure size 640x480 with 1 Axes>"
      ]
     },
     "metadata": {},
     "output_type": "display_data"
    }
   ],
   "source": [
    "plt.plot(range(len(lossx)), lossx)"
   ]
  },
  {
   "cell_type": "code",
   "execution_count": 24,
   "metadata": {},
   "outputs": [
    {
     "data": {
      "text/plain": [
       "0.5405331882480957"
      ]
     },
     "execution_count": 24,
     "metadata": {},
     "output_type": "execute_result"
    },
    {
     "data": {
      "image/png": "[encoded data removed]",
      "text/plain": [
       "<Figure size 640x480 with 2 Axes>"
      ]
     },
     "metadata": {},
     "output_type": "display_data"
    }
   ],
   "source": [
    "train_sample_accuracy(fm)"
   ]
  },
  {
   "cell_type": "code",
   "execution_count": 25,
   "metadata": {},
   "outputs": [
    {
     "data": {
      "text/plain": [
       "FullModel(\n",
       "  (atdev): MultiheadAttentionDevelopment(\n",
       "    (q): Linear(in_features=3, out_features=6, bias=True)\n",
       "    (k): Linear(in_features=3, out_features=6, bias=True)\n",
       "    (v): Linear(in_features=3, out_features=6, bias=True)\n",
       "    (attention): MultiheadAttention(\n",
       "      (out_proj): NonDynamicallyQuantizableLinear(in_features=6, out_features=6, bias=True)\n",
       "    )\n",
       "    (development_layers): ModuleList(\n",
       "      (0-1): 2 x development_layer(\n",
       "        (projection): projection(\n",
       "          (param_map): gl()\n",
       "        )\n",
       "      )\n",
       "    )\n",
       "  )\n",
       "  (l1): Linear(in_features=27, out_features=6, bias=True)\n",
       "  (l2): Linear(in_features=48, out_features=6, bias=True)\n",
       ")"
      ]
     },
     "execution_count": 25,
     "metadata": {},
     "output_type": "execute_result"
    }
   ],
   "source": [
    "fm"
   ]
  },
  {
   "cell_type": "code",
   "execution_count": 28,
   "metadata": {},
   "outputs": [],
   "source": [
    "s1, s2 = fm.forward_partial(tsx_train[:10])"
   ]
  },
  {
   "cell_type": "code",
   "execution_count": 36,
   "metadata": {},
   "outputs": [
    {
     "data": {
      "text/plain": [
       "tensor([[2.3075, 2.1119, 2.0856],\n",
       "        [1.5792, 0.8349, 1.9122],\n",
       "        [1.7043, 0.8424, 1.6550],\n",
       "        [1.6541, 0.7769, 1.6946],\n",
       "        [1.6260, 0.7427, 1.9050],\n",
       "        [1.8325, 0.8877, 1.6857],\n",
       "        [1.8053, 0.9655, 1.5673],\n",
       "        [1.6929, 0.8205, 1.6119],\n",
       "        [1.6214, 0.8179, 1.6748],\n",
       "        [1.6490, 0.8307, 1.6063]], grad_fn=<LinalgVectorNormBackward0>)"
      ]
     },
     "execution_count": 36,
     "metadata": {},
     "output_type": "execute_result"
    }
   ],
   "source": [
    "torch.linalg.norm(s1, axis=[2, 3])"
   ]
  },
  {
   "cell_type": "code",
   "execution_count": 37,
   "metadata": {},
   "outputs": [
    {
     "data": {
      "text/plain": [
       "tensor([[[[ 1.1649e+00,  3.3419e-01,  3.2915e-01],\n",
       "          [-8.2201e-02,  1.0932e+00,  9.1905e-02],\n",
       "          [ 4.5589e-01, -3.3054e-01,  1.4899e+00]],\n",
       "\n",
       "         [[ 1.1175e+00,  8.9530e-02, -1.2087e-02],\n",
       "          [ 3.5268e-02,  1.2200e+00,  2.9413e-01],\n",
       "          [ 3.0807e-02, -3.5693e-01,  1.2243e+00]],\n",
       "\n",
       "         [[ 9.8456e-01,  3.1199e-02, -2.0077e-01],\n",
       "          [-2.2756e-03,  1.3153e+00, -1.3468e-01],\n",
       "          [-3.8882e-01, -4.2374e-01,  1.1226e+00]]],\n",
       "\n",
       "\n",
       "        [[[ 3.9992e-01, -6.2292e-01, -5.6254e-01],\n",
       "          [ 3.3531e-01,  1.0058e+00,  2.8405e-01],\n",
       "          [-2.6586e-01,  2.9318e-01,  5.1757e-01]],\n",
       "\n",
       "         [[ 6.7078e-01, -2.5479e-01, -2.8257e-02],\n",
       "          [ 4.2206e-03, -8.0830e-02, -3.2070e-01],\n",
       "          [-5.2256e-02,  2.5226e-01, -7.5150e-02]],\n",
       "\n",
       "         [[ 9.7290e-01, -3.9607e-01,  4.4431e-01],\n",
       "          [ 5.0685e-01,  4.3590e-01,  6.1681e-01],\n",
       "          [ 3.9655e-01,  3.4455e-01,  1.1192e+00]]],\n",
       "\n",
       "\n",
       "        [[[ 3.4716e-01, -2.4923e-01, -4.7944e-01],\n",
       "          [ 4.1565e-01,  1.2725e+00,  6.4048e-01],\n",
       "          [-3.2851e-01, -3.3124e-01,  2.6891e-01]],\n",
       "\n",
       "         [[ 7.0300e-01, -3.1579e-01,  9.8155e-03],\n",
       "          [ 7.5088e-03, -1.7180e-01, -1.9259e-01],\n",
       "          [-4.2396e-02,  1.5369e-01, -1.5317e-01]],\n",
       "\n",
       "         [[ 5.9159e-01, -5.9018e-01,  1.5933e-01],\n",
       "          [ 5.7109e-01,  3.0258e-01,  8.6620e-01],\n",
       "          [-3.3557e-01,  4.2605e-01,  7.4370e-01]]],\n",
       "\n",
       "\n",
       "        [[[ 2.9880e-01, -4.2716e-01, -5.6983e-01],\n",
       "          [ 4.1172e-01,  1.2001e+00,  5.5233e-01],\n",
       "          [-2.8529e-01, -7.4528e-02,  3.7127e-01]],\n",
       "\n",
       "         [[ 6.5513e-01, -2.8543e-01,  1.5711e-02],\n",
       "          [ 1.2540e-02, -1.6416e-01, -1.5123e-01],\n",
       "          [-4.4226e-02,  1.2233e-01, -1.6036e-01]],\n",
       "\n",
       "         [[ 6.4290e-01, -5.7465e-01,  2.6526e-01],\n",
       "          [ 5.5670e-01,  2.7399e-01,  8.4723e-01],\n",
       "          [-8.7567e-02,  3.7347e-01,  8.9880e-01]]],\n",
       "\n",
       "\n",
       "        [[[ 3.0223e-01, -6.0788e-01, -5.9656e-01],\n",
       "          [ 3.8733e-01,  1.1065e+00,  4.0337e-01],\n",
       "          [-2.7383e-01,  1.5304e-01,  4.3795e-01]],\n",
       "\n",
       "         [[ 6.2684e-01, -2.6074e-01,  2.1266e-02],\n",
       "          [ 1.3688e-02, -1.5594e-01, -1.5454e-01],\n",
       "          [-4.5357e-02,  1.2881e-01, -1.5249e-01]],\n",
       "\n",
       "         [[ 8.2609e-01, -4.9524e-01,  4.2033e-01],\n",
       "          [ 6.6445e-01,  3.1265e-01,  8.6837e-01],\n",
       "          [ 2.0554e-01,  3.7343e-01,  1.0245e+00]]],\n",
       "\n",
       "\n",
       "        [[[ 3.7344e-01, -8.5529e-02, -3.9008e-01],\n",
       "          [ 4.3160e-01,  1.3377e+00,  7.4420e-01],\n",
       "          [-3.7775e-01, -6.0918e-01,  1.2607e-01]],\n",
       "\n",
       "         [[ 7.4223e-01, -3.4474e-01,  2.0831e-02],\n",
       "          [ 3.5676e-03, -1.8672e-01, -1.8580e-01],\n",
       "          [-4.0283e-02,  1.5087e-01, -1.5531e-01]],\n",
       "\n",
       "         [[ 5.0514e-01, -6.1142e-01,  4.8617e-02],\n",
       "          [ 5.7447e-01,  3.0076e-01,  9.2032e-01],\n",
       "          [-5.6859e-01,  5.0291e-01,  6.0550e-01]]],\n",
       "\n",
       "\n",
       "        [[[ 3.5949e-01, -4.8650e-02, -4.5390e-01],\n",
       "          [ 4.6060e-01,  1.2834e+00,  8.1218e-01],\n",
       "          [-2.7905e-01, -4.9454e-01,  2.8310e-01]],\n",
       "\n",
       "         [[ 7.7812e-01, -3.5528e-01, -6.9057e-02],\n",
       "          [-6.9683e-04, -1.2813e-01, -3.2952e-01],\n",
       "          [-4.7562e-02,  2.2703e-01, -1.3017e-01]],\n",
       "\n",
       "         [[ 5.2199e-01, -6.7807e-01,  7.6319e-02],\n",
       "          [ 3.5172e-01,  3.3152e-01,  7.0384e-01],\n",
       "          [-5.5099e-01,  3.0947e-01,  7.6812e-01]]],\n",
       "\n",
       "\n",
       "        [[[ 3.1184e-01, -2.9151e-01, -5.3408e-01],\n",
       "          [ 4.2710e-01,  1.2435e+00,  6.5106e-01],\n",
       "          [-2.9474e-01, -2.3640e-01,  3.2115e-01]],\n",
       "\n",
       "         [[ 6.8624e-01, -3.0728e-01,  1.2614e-03],\n",
       "          [ 1.0242e-02, -1.6592e-01, -1.8026e-01],\n",
       "          [-4.4321e-02,  1.3973e-01, -1.6196e-01]],\n",
       "\n",
       "         [[ 5.6678e-01, -6.1775e-01,  1.7861e-01],\n",
       "          [ 4.8158e-01,  2.7019e-01,  8.1176e-01],\n",
       "          [-2.6646e-01,  3.7496e-01,  8.2943e-01]]],\n",
       "\n",
       "\n",
       "        [[[ 3.3097e-01, -4.2798e-01, -5.6838e-01],\n",
       "          [ 3.8996e-01,  1.1606e+00,  5.0859e-01],\n",
       "          [-2.6896e-01, -1.4929e-02,  4.2785e-01]],\n",
       "\n",
       "         [[ 6.7466e-01, -2.9009e-01, -1.3741e-02],\n",
       "          [ 8.9417e-03, -1.4607e-01, -2.3344e-01],\n",
       "          [-4.7257e-02,  1.7690e-01, -1.4156e-01]],\n",
       "\n",
       "         [[ 7.0781e-01, -5.5521e-01,  2.8551e-01],\n",
       "          [ 5.1343e-01,  3.3245e-01,  7.4617e-01],\n",
       "          [-4.4230e-02,  3.2876e-01,  9.3442e-01]]],\n",
       "\n",
       "\n",
       "        [[[ 3.0167e-01, -4.0401e-01, -6.0563e-01],\n",
       "          [ 4.0954e-01,  1.1637e+00,  5.5627e-01],\n",
       "          [-2.3852e-01, -1.2255e-02,  4.5790e-01]],\n",
       "\n",
       "         [[ 6.8434e-01, -2.9917e-01, -2.6713e-02],\n",
       "          [ 8.3432e-03, -1.4238e-01, -2.3711e-01],\n",
       "          [-5.1650e-02,  1.7144e-01, -1.5152e-01]],\n",
       "\n",
       "         [[ 6.2851e-01, -5.9774e-01,  2.5848e-01],\n",
       "          [ 4.1076e-01,  3.1183e-01,  6.9638e-01],\n",
       "          [-1.0316e-01,  2.7241e-01,  9.6191e-01]]]], grad_fn=<ViewBackward0>)"
      ]
     },
     "execution_count": 37,
     "metadata": {},
     "output_type": "execute_result"
    }
   ],
   "source": [
    "s1"
   ]
  },
  {
   "cell_type": "code",
   "execution_count": 55,
   "metadata": {},
   "outputs": [],
   "source": [
    "torch.save(fm.state_dict(), \"fm_model\")"
   ]
  },
  {
   "cell_type": "code",
   "execution_count": 58,
   "metadata": {},
   "outputs": [
    {
     "data": {
      "text/plain": [
       "FullModel(\n",
       "  (atdev): MultiheadAttentionDevelopment(\n",
       "    (q): Linear(in_features=3, out_features=6, bias=True)\n",
       "    (k): Linear(in_features=3, out_features=6, bias=True)\n",
       "    (v): Linear(in_features=3, out_features=6, bias=True)\n",
       "    (attention): MultiheadAttention(\n",
       "      (out_proj): NonDynamicallyQuantizableLinear(in_features=6, out_features=6, bias=True)\n",
       "    )\n",
       "    (development_layers): ModuleList(\n",
       "      (0-1): 2 x development_layer(\n",
       "        (projection): projection(\n",
       "          (param_map): gl()\n",
       "        )\n",
       "      )\n",
       "    )\n",
       "  )\n",
       "  (l1): Linear(in_features=27, out_features=6, bias=True)\n",
       "  (l2): Linear(in_features=48, out_features=6, bias=True)\n",
       ")"
      ]
     },
     "execution_count": 58,
     "metadata": {},
     "output_type": "execute_result"
    }
   ],
   "source": [
    "fm = FullModel(\n",
    "    dropout=.05,\n",
    "    input_dim=3,\n",
    "    hidden_dim=6,\n",
    "    out_dim=n_class,\n",
    "    multidev_config=multidev_config\n",
    ")\n",
    "fm.load_state_dict(torch.load(\"fm_model\", weights_only=True))\n",
    "fm.eval()"
   ]
  },
  {
   "cell_type": "code",
   "execution_count": 73,
   "metadata": {},
   "outputs": [
    {
     "data": {
      "image/png": "[encoded data removed]",
      "text/plain": [
       "<Figure size 600x300 with 2 Axes>"
      ]
     },
     "metadata": {},
     "output_type": "display_data"
    },
    {
     "data": {
      "image/png": "[encoded data removed]",
      "text/plain": [
       "<Figure size 600x300 with 2 Axes>"
      ]
     },
     "metadata": {},
     "output_type": "display_data"
    },
    {
     "data": {
      "image/png": "[encoded data removed]",
      "text/plain": [
       "<Figure size 600x300 with 2 Axes>"
      ]
     },
     "metadata": {},
     "output_type": "display_data"
    },
    {
     "data": {
      "image/png": "[encoded data removed]",
      "text/plain": [
       "<Figure size 600x300 with 2 Axes>"
      ]
     },
     "metadata": {},
     "output_type": "display_data"
    },
    {
     "data": {
      "image/png": "[encoded data removed]",
      "text/plain": [
       "<Figure size 600x300 with 2 Axes>"
      ]
     },
     "metadata": {},
     "output_type": "display_data"
    },
    {
     "data": {
      "image/png": "[encoded data removed]",
      "text/plain": [
       "<Figure size 600x300 with 2 Axes>"
      ]
     },
     "metadata": {},
     "output_type": "display_data"
    }
   ],
   "source": [
    "label_class = 0\n",
    "tsx_train_class = tsx_train[y_train_labels.astype(float).astype(int) == label_class]\n",
    "n_samples = 100\n",
    "for label_class in range(6):\n",
    "    s1, s2 = fm.forward_partial(tsx_train_class[:n_samples])\n",
    "    fig, axs = plt.subplots(ncols=2, figsize=(6, 3))\n",
    "    axs[0].imshow(torch.mean(s1, axis=0).detach().numpy()[0, :, :])\n",
    "    axs[1].imshow(torch.mean(s2, axis=0).detach().numpy()[0, :, :])\n",
    "    fig.suptitle(f\"Embedding for class {label_class}\")\n"
   ]
  },
  {
   "cell_type": "code",
   "execution_count": 60,
   "metadata": {},
   "outputs": [
    {
     "data": {
      "text/plain": [
       "tensor([], size=(0, 206, 3))"
      ]
     },
     "execution_count": 60,
     "metadata": {},
     "output_type": "execute_result"
    }
   ],
   "source": [
    "tsx_train_class"
   ]
  },
  {
   "cell_type": "code",
   "execution_count": 64,
   "metadata": {},
   "outputs": [
    {
     "data": {
      "text/plain": [
       "1226"
      ]
     },
     "execution_count": 64,
     "metadata": {},
     "output_type": "execute_result"
    }
   ],
   "source": [
    "(y_train_labels == label_class).sum()"
   ]
  },
  {
   "cell_type": "code",
   "execution_count": null,
   "metadata": {},
   "outputs": [],
   "source": []
  }
 ],
 "metadata": {
  "kernelspec": {
   "display_name": "mcdev",
   "language": "python",
   "name": "python3"
  },
  "language_info": {
   "codemirror_mode": {
    "name": "ipython",
    "version": 3
   },
   "file_extension": ".py",
   "mimetype": "text/x-python",
   "name": "python",
   "nbconvert_exporter": "python",
   "pygments_lexer": "ipython3",
   "version": "3.9.20"
  }
 },
 "nbformat": 4,
 "nbformat_minor": 2
}
