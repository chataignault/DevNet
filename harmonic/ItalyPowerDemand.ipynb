{
 "cells": [
  {
   "cell_type": "markdown",
   "metadata": {},
   "source": [
    "# Apply expected path development to time-series classification\n",
    "**Data :**\n",
    "*ItalyPowerDemand* from [UAE](https://www.timeseriesclassification.com/description.php?Dataset=ItalyPowerDemand)\n"
   ]
  },
  {
   "cell_type": "code",
   "execution_count": 1,
   "metadata": {},
   "outputs": [],
   "source": [
    "import os\n",
    "from aeon.datasets import load_from_tsfile\n",
    "from matplotlib import pyplot as plt\n",
    "# import numpy as np"
   ]
  },
  {
   "cell_type": "code",
   "execution_count": 2,
   "metadata": {},
   "outputs": [],
   "source": [
    "data_dir = os.path.join(os.getcwd(), \"..\", \"data\", \"ItalyPowerDemand\")\n",
    "train_file = \"ItalyPowerDemand_TRAIN.ts\"\n",
    "test_file = \"ItalyPowerDemand_TEST.ts\""
   ]
  },
  {
   "cell_type": "code",
   "execution_count": 3,
   "metadata": {},
   "outputs": [],
   "source": [
    "tsx_train, y_train = load_from_tsfile(os.path.join(data_dir, train_file))\n",
    "tsx_test, y_test = load_from_tsfile(os.path.join(data_dir, test_file))\n",
    "y_train = y_train.astype(int)\n",
    "y_test = y_test.astype(int)"
   ]
  },
  {
   "cell_type": "markdown",
   "metadata": {},
   "source": [
    "## Show time series "
   ]
  },
  {
   "cell_type": "code",
   "execution_count": 4,
   "metadata": {},
   "outputs": [
    {
     "data": {
      "image/png": "[encoded data removed]",
      "text/plain": [
       "<Figure size 1000x500 with 1 Axes>"
      ]
     },
     "metadata": {},
     "output_type": "display_data"
    }
   ],
   "source": [
    "cm = {1: \"red\", 2: \"blue\"}\n",
    "_, ax = plt.subplots(figsize=(10, 5))\n",
    "x = range(24)\n",
    "for i in range(10):\n",
    "    ax.step(x, tsx_train[i, 0, :], c=cm[y_train[i]])\n",
    "ax.grid()"
   ]
  },
  {
   "cell_type": "code",
   "execution_count": 5,
   "metadata": {},
   "outputs": [],
   "source": [
    "import sys\n",
    "\n",
    "sys.path.append(os.path.join(os.getcwd(), \"..\"))\n",
    "from development.nn import development_layer\n",
    "from development.so import so\n",
    "import numpy as np\n",
    "import torch\n",
    "from torch.utils.data import TensorDataset, DataLoader\n",
    "from torch import Tensor\n",
    "from torch import optim\n",
    "from sklearn.metrics import confusion_matrix"
   ]
  },
  {
   "cell_type": "code",
   "execution_count": 7,
   "metadata": {},
   "outputs": [],
   "source": [
    "# time augmentation\n",
    "tsx_train = np.concatenate(\n",
    "    [tsx_train, np.repeat(np.array([np.array([list(range(24))])]), len(tsx_train), axis=0)], axis=1\n",
    ")\n",
    "tsx_test = np.concatenate(\n",
    "    [tsx_test, np.repeat(np.array([np.array([list(range(24))])]), len(tsx_test), axis=0)], axis=1\n",
    ")\n",
    "\n",
    "# series dimension last\n",
    "tsx_train = Tensor(tsx_train).swapaxes(1, 2)\n",
    "tsx_test = Tensor(tsx_test).swapaxes(1, 2)\n",
    "\n",
    "y_train = Tensor(y_train)\n",
    "y_test = Tensor(y_test)"
   ]
  },
  {
   "cell_type": "markdown",
   "metadata": {},
   "source": [
    "## Pretrain"
   ]
  },
  {
   "cell_type": "code",
   "execution_count": 8,
   "metadata": {},
   "outputs": [],
   "source": [
    "dev_layer = development_layer(\n",
    "    input_size=2,\n",
    "    hidden_size=3,\n",
    "    channels=1,\n",
    "    param=so,\n",
    "    complexification=False,\n",
    "    return_sequence=False,\n",
    ")"
   ]
  },
  {
   "cell_type": "code",
   "execution_count": 9,
   "metadata": {},
   "outputs": [],
   "source": [
    "tsxdev = dev_layer(tsx_train)"
   ]
  },
  {
   "cell_type": "code",
   "execution_count": 449,
   "metadata": {},
   "outputs": [],
   "source": [
    "# build the dataset\n",
    "batch_size = 35\n",
    "train = TensorDataset(tsx_train, y_train)\n",
    "\n",
    "train_loader = DataLoader(train, batch_size=batch_size, shuffle=True)"
   ]
  },
  {
   "cell_type": "markdown",
   "metadata": {},
   "source": [
    "## Train"
   ]
  },
  {
   "cell_type": "code",
   "execution_count": 1057,
   "metadata": {},
   "outputs": [],
   "source": [
    "# try diferent sizes and groups and channels\n",
    "\n",
    "hidden_size = 5\n",
    "dev_layer = development_layer(\n",
    "    input_size=2,\n",
    "    hidden_size=hidden_size,\n",
    "    channels=1,\n",
    "    param=so,\n",
    "    complexification=False,\n",
    "    return_sequence=False,\n",
    ")"
   ]
  },
  {
   "cell_type": "code",
   "execution_count": 1058,
   "metadata": {},
   "outputs": [
    {
     "data": {
      "text/plain": [
       "torch.Size([67, 24, 2])"
      ]
     },
     "execution_count": 1058,
     "metadata": {},
     "output_type": "execute_result"
    }
   ],
   "source": [
    "tsx_train.shape"
   ]
  },
  {
   "cell_type": "code",
   "execution_count": 1059,
   "metadata": {},
   "outputs": [],
   "source": [
    "optimizer = optim.Adam(dev_layer.parameters(), lr=0.001)\n",
    "alpha = 0.5\n",
    "beta = 0.2\n",
    "\n",
    "\n",
    "def train_model(model, optimizer, data_loader, num_epochs=10):\n",
    "    model.train()\n",
    "    lossx = []\n",
    "    for epoch in range(num_epochs):\n",
    "        running_loss = 0.0\n",
    "        for inputs, labels in data_loader:\n",
    "            optimizer.zero_grad()\n",
    "            X = model(inputs)\n",
    "\n",
    "            Y = X[labels == 1]\n",
    "            Z = X[labels == 2]\n",
    "\n",
    "            tau_y = torch.mean(Y, axis=0)\n",
    "            tau_z = torch.mean(Z, axis=0)\n",
    "            dtau = tau_y - tau_z\n",
    "            dtauy = tau_y - Y\n",
    "            dtauz = tau_z - Z\n",
    "            loss = (\n",
    "                -(dtau[0].T.matmul(dtau[0]).diagonal(dim1=0, dim2=1).sum(-1)) / hidden_size\n",
    "                - beta\n",
    "                * (dtau[0].T.matmul(dtau[0]).diagonal(dim1=0, dim2=1).sum(-1)) ** 2\n",
    "                / hidden_size\n",
    "                + alpha\n",
    "                * torch.norm(\n",
    "                    torch.swapaxes(dtauy[:, 0, ...], 1, 2)\n",
    "                    .bmm(dtauy[:, 0, ...])\n",
    "                    .diagonal(dim1=1, dim2=2)\n",
    "                    .sum(-1)\n",
    "                )\n",
    "                ** 2\n",
    "                / hidden_size\n",
    "                / len(dtauy)\n",
    "                + alpha\n",
    "                * torch.norm(\n",
    "                    torch.swapaxes(dtauz[:, 0, ...], 1, 2)\n",
    "                    .bmm(dtauz[:, 0, ...])\n",
    "                    .diagonal(dim1=1, dim2=2)\n",
    "                    .sum(-1)\n",
    "                )\n",
    "                ** 2\n",
    "                / hidden_size\n",
    "                / len(dtauz)\n",
    "            )\n",
    "            loss.backward()\n",
    "            optimizer.step()\n",
    "\n",
    "            running_loss += loss.item()\n",
    "\n",
    "        lossx.append(running_loss / len(data_loader))\n",
    "\n",
    "        print(f\"Epoch [{epoch+1}/{num_epochs}], Loss: {running_loss / len(data_loader)}\")\n",
    "\n",
    "    return lossx"
   ]
  },
  {
   "cell_type": "code",
   "execution_count": 1060,
   "metadata": {},
   "outputs": [
    {
     "name": "stdout",
     "output_type": "stream",
     "text": [
      "Epoch [1/300], Loss: -0.6582747399806976\n",
      "Epoch [2/300], Loss: -1.1958929598331451\n",
      "Epoch [3/300], Loss: -1.1586135029792786\n",
      "Epoch [4/300], Loss: -1.3492525219917297\n",
      "Epoch [5/300], Loss: -1.1796353161334991\n",
      "Epoch [6/300], Loss: -1.2421009540557861\n",
      "Epoch [7/300], Loss: -1.4877945184707642\n",
      "Epoch [8/300], Loss: -1.9682096242904663\n",
      "Epoch [9/300], Loss: -1.5913294553756714\n",
      "Epoch [10/300], Loss: -1.8962214589118958\n",
      "Epoch [11/300], Loss: -2.265699028968811\n",
      "Epoch [12/300], Loss: -2.452971041202545\n",
      "Epoch [13/300], Loss: -2.1362602710723877\n",
      "Epoch [14/300], Loss: -2.3769052028656006\n",
      "Epoch [15/300], Loss: -3.516889810562134\n",
      "Epoch [16/300], Loss: -2.880060911178589\n",
      "Epoch [17/300], Loss: -3.0297281742095947\n",
      "Epoch [18/300], Loss: -3.027789354324341\n",
      "Epoch [19/300], Loss: -4.6075592041015625\n",
      "Epoch [20/300], Loss: -3.8018016815185547\n",
      "Epoch [21/300], Loss: -4.450668931007385\n",
      "Epoch [22/300], Loss: -4.229808926582336\n",
      "Epoch [23/300], Loss: -3.8291105031967163\n",
      "Epoch [24/300], Loss: -4.423336029052734\n",
      "Epoch [25/300], Loss: -4.617862343788147\n",
      "Epoch [26/300], Loss: -4.833442449569702\n",
      "Epoch [27/300], Loss: -5.345631957054138\n",
      "Epoch [28/300], Loss: -5.988286852836609\n",
      "Epoch [29/300], Loss: -7.202030539512634\n",
      "Epoch [30/300], Loss: -5.779349446296692\n",
      "Epoch [31/300], Loss: -5.380945682525635\n",
      "Epoch [32/300], Loss: -6.425765514373779\n",
      "Epoch [33/300], Loss: -6.279044270515442\n",
      "Epoch [34/300], Loss: -6.755343675613403\n",
      "Epoch [35/300], Loss: -6.113945245742798\n",
      "Epoch [36/300], Loss: -7.178234219551086\n",
      "Epoch [37/300], Loss: -6.3254430294036865\n",
      "Epoch [38/300], Loss: -6.852877378463745\n",
      "Epoch [39/300], Loss: -8.22573697566986\n",
      "Epoch [40/300], Loss: -6.814037084579468\n",
      "Epoch [41/300], Loss: -7.1866748332977295\n",
      "Epoch [42/300], Loss: -7.083043336868286\n",
      "Epoch [43/300], Loss: -7.1242992877960205\n",
      "Epoch [44/300], Loss: -7.745857000350952\n",
      "Epoch [45/300], Loss: -9.840779066085815\n",
      "Epoch [46/300], Loss: -7.5233399868011475\n",
      "Epoch [47/300], Loss: -7.544406414031982\n",
      "Epoch [48/300], Loss: -8.659169673919678\n",
      "Epoch [49/300], Loss: -9.336335182189941\n",
      "Epoch [50/300], Loss: -7.720358848571777\n",
      "Epoch [51/300], Loss: -8.531548023223877\n",
      "Epoch [52/300], Loss: -8.657784461975098\n",
      "Epoch [53/300], Loss: -10.430849552154541\n",
      "Epoch [54/300], Loss: -8.117091417312622\n",
      "Epoch [55/300], Loss: -10.584959983825684\n",
      "Epoch [56/300], Loss: -7.550748825073242\n",
      "Epoch [57/300], Loss: -8.509389638900757\n",
      "Epoch [58/300], Loss: -8.228779554367065\n",
      "Epoch [59/300], Loss: -9.857506394386292\n",
      "Epoch [60/300], Loss: -9.738941431045532\n",
      "Epoch [61/300], Loss: -11.136280298233032\n",
      "Epoch [62/300], Loss: -8.513909816741943\n",
      "Epoch [63/300], Loss: -8.811157703399658\n",
      "Epoch [64/300], Loss: -8.98159146308899\n",
      "Epoch [65/300], Loss: -8.044715881347656\n",
      "Epoch [66/300], Loss: -8.588650465011597\n",
      "Epoch [67/300], Loss: -8.76274824142456\n",
      "Epoch [68/300], Loss: -8.893281698226929\n",
      "Epoch [69/300], Loss: -10.241297245025635\n",
      "Epoch [70/300], Loss: -10.629776000976562\n",
      "Epoch [71/300], Loss: -8.549717426300049\n",
      "Epoch [72/300], Loss: -7.601575613021851\n",
      "Epoch [73/300], Loss: -8.96467113494873\n",
      "Epoch [74/300], Loss: -8.188324451446533\n",
      "Epoch [75/300], Loss: -10.240514755249023\n",
      "Epoch [76/300], Loss: -9.033966779708862\n",
      "Epoch [77/300], Loss: -9.887622356414795\n",
      "Epoch [78/300], Loss: -9.832583904266357\n",
      "Epoch [79/300], Loss: -8.250282287597656\n",
      "Epoch [80/300], Loss: -10.237778902053833\n",
      "Epoch [81/300], Loss: -10.575906753540039\n",
      "Epoch [82/300], Loss: -8.709407806396484\n",
      "Epoch [83/300], Loss: -9.15397572517395\n",
      "Epoch [84/300], Loss: -9.83981466293335\n",
      "Epoch [85/300], Loss: -9.840059041976929\n",
      "Epoch [86/300], Loss: -7.713951349258423\n",
      "Epoch [87/300], Loss: -8.440848350524902\n",
      "Epoch [88/300], Loss: -10.666516780853271\n",
      "Epoch [89/300], Loss: -8.796750783920288\n",
      "Epoch [90/300], Loss: -7.235661268234253\n",
      "Epoch [91/300], Loss: -9.435072183609009\n",
      "Epoch [92/300], Loss: -11.603553295135498\n",
      "Epoch [93/300], Loss: -10.332850456237793\n",
      "Epoch [94/300], Loss: -10.098151922225952\n",
      "Epoch [95/300], Loss: -13.374643564224243\n",
      "Epoch [96/300], Loss: -10.474874019622803\n",
      "Epoch [97/300], Loss: -9.553751468658447\n",
      "Epoch [98/300], Loss: -8.664352893829346\n",
      "Epoch [99/300], Loss: -10.579243183135986\n",
      "Epoch [100/300], Loss: -9.51013970375061\n",
      "Epoch [101/300], Loss: -9.154468774795532\n",
      "Epoch [102/300], Loss: -12.232694149017334\n",
      "Epoch [103/300], Loss: -8.058777570724487\n",
      "Epoch [104/300], Loss: -13.837888240814209\n",
      "Epoch [105/300], Loss: -9.77303433418274\n",
      "Epoch [106/300], Loss: -8.021219491958618\n",
      "Epoch [107/300], Loss: -10.778826713562012\n",
      "Epoch [108/300], Loss: -8.4161217212677\n",
      "Epoch [109/300], Loss: -9.054487228393555\n",
      "Epoch [110/300], Loss: -10.018493175506592\n",
      "Epoch [111/300], Loss: -11.106680631637573\n",
      "Epoch [112/300], Loss: -10.164342641830444\n",
      "Epoch [113/300], Loss: -12.478546142578125\n",
      "Epoch [114/300], Loss: -10.308731079101562\n",
      "Epoch [115/300], Loss: -13.543606281280518\n",
      "Epoch [116/300], Loss: -10.308573007583618\n",
      "Epoch [117/300], Loss: -9.052472829818726\n",
      "Epoch [118/300], Loss: -9.08407735824585\n",
      "Epoch [119/300], Loss: -9.259165048599243\n",
      "Epoch [120/300], Loss: -12.178753852844238\n",
      "Epoch [121/300], Loss: -9.634214878082275\n",
      "Epoch [122/300], Loss: -10.05916142463684\n",
      "Epoch [123/300], Loss: -11.557940483093262\n",
      "Epoch [124/300], Loss: -10.035096883773804\n",
      "Epoch [125/300], Loss: -8.708586931228638\n",
      "Epoch [126/300], Loss: -9.217219352722168\n",
      "Epoch [127/300], Loss: -9.104167222976685\n",
      "Epoch [128/300], Loss: -8.170316934585571\n",
      "Epoch [129/300], Loss: -10.769677877426147\n",
      "Epoch [130/300], Loss: -15.755762696266174\n",
      "Epoch [131/300], Loss: -9.215149402618408\n",
      "Epoch [132/300], Loss: -8.725234270095825\n",
      "Epoch [133/300], Loss: -9.86621379852295\n",
      "Epoch [134/300], Loss: -13.787075757980347\n",
      "Epoch [135/300], Loss: -13.427122116088867\n",
      "Epoch [136/300], Loss: -9.041996479034424\n",
      "Epoch [137/300], Loss: -9.221677780151367\n",
      "Epoch [138/300], Loss: -14.908208131790161\n",
      "Epoch [139/300], Loss: -11.923255205154419\n",
      "Epoch [140/300], Loss: -9.63354241847992\n",
      "Epoch [141/300], Loss: -8.612068176269531\n",
      "Epoch [142/300], Loss: -10.812892198562622\n",
      "Epoch [143/300], Loss: -10.822072744369507\n",
      "Epoch [144/300], Loss: -11.263803482055664\n",
      "Epoch [145/300], Loss: -9.60006833076477\n",
      "Epoch [146/300], Loss: -8.998129606246948\n",
      "Epoch [147/300], Loss: -9.917248725891113\n",
      "Epoch [148/300], Loss: -9.221716403961182\n",
      "Epoch [149/300], Loss: -14.06048572063446\n",
      "Epoch [150/300], Loss: -10.612834453582764\n",
      "Epoch [151/300], Loss: -10.916883945465088\n",
      "Epoch [152/300], Loss: -11.796274423599243\n",
      "Epoch [153/300], Loss: -10.653543710708618\n",
      "Epoch [154/300], Loss: -10.93997311592102\n",
      "Epoch [155/300], Loss: -9.632203102111816\n",
      "Epoch [156/300], Loss: -10.65696930885315\n",
      "Epoch [157/300], Loss: -14.073556900024414\n",
      "Epoch [158/300], Loss: -12.031930446624756\n",
      "Epoch [159/300], Loss: -12.2085120677948\n",
      "Epoch [160/300], Loss: -11.045983791351318\n",
      "Epoch [161/300], Loss: -8.816911220550537\n",
      "Epoch [162/300], Loss: -9.099822759628296\n",
      "Epoch [163/300], Loss: -10.198075294494629\n",
      "Epoch [164/300], Loss: -9.534097909927368\n",
      "Epoch [165/300], Loss: -10.963657855987549\n",
      "Epoch [166/300], Loss: -10.199933052062988\n",
      "Epoch [167/300], Loss: -9.77607250213623\n",
      "Epoch [168/300], Loss: -7.6435511112213135\n",
      "Epoch [169/300], Loss: -9.932394981384277\n",
      "Epoch [170/300], Loss: -10.047354698181152\n",
      "Epoch [171/300], Loss: -16.456164836883545\n",
      "Epoch [172/300], Loss: -9.883718490600586\n",
      "Epoch [173/300], Loss: -11.293840646743774\n",
      "Epoch [174/300], Loss: -10.302767276763916\n",
      "Epoch [175/300], Loss: -13.461699485778809\n",
      "Epoch [176/300], Loss: -10.629902839660645\n",
      "Epoch [177/300], Loss: -9.772828817367554\n",
      "Epoch [178/300], Loss: -9.830342292785645\n",
      "Epoch [179/300], Loss: -11.757920980453491\n",
      "Epoch [180/300], Loss: -9.16513204574585\n",
      "Epoch [181/300], Loss: -12.582780718803406\n",
      "Epoch [182/300], Loss: -13.002740144729614\n",
      "Epoch [183/300], Loss: -12.622684478759766\n",
      "Epoch [184/300], Loss: -8.838623523712158\n",
      "Epoch [185/300], Loss: -10.820928812026978\n",
      "Epoch [186/300], Loss: -8.507447004318237\n",
      "Epoch [187/300], Loss: -9.566848516464233\n",
      "Epoch [188/300], Loss: -11.430277585983276\n",
      "Epoch [189/300], Loss: -8.900262832641602\n",
      "Epoch [190/300], Loss: -11.066925287246704\n",
      "Epoch [191/300], Loss: -9.611491203308105\n",
      "Epoch [192/300], Loss: -9.07059931755066\n",
      "Epoch [193/300], Loss: -9.96227240562439\n",
      "Epoch [194/300], Loss: -10.40091609954834\n",
      "Epoch [195/300], Loss: -11.236724138259888\n",
      "Epoch [196/300], Loss: -8.713499546051025\n",
      "Epoch [197/300], Loss: -10.73238468170166\n",
      "Epoch [198/300], Loss: -9.677452087402344\n",
      "Epoch [199/300], Loss: -10.286828994750977\n",
      "Epoch [200/300], Loss: -9.350202083587646\n",
      "Epoch [201/300], Loss: -9.154638290405273\n",
      "Epoch [202/300], Loss: -12.713185787200928\n",
      "Epoch [203/300], Loss: -9.293629169464111\n",
      "Epoch [204/300], Loss: -9.914589881896973\n",
      "Epoch [205/300], Loss: -12.078036308288574\n",
      "Epoch [206/300], Loss: -7.724428653717041\n",
      "Epoch [207/300], Loss: -9.458141088485718\n",
      "Epoch [208/300], Loss: -9.063581943511963\n",
      "Epoch [209/300], Loss: -10.788166522979736\n",
      "Epoch [210/300], Loss: -17.843642950057983\n",
      "Epoch [211/300], Loss: -8.875274181365967\n",
      "Epoch [212/300], Loss: -10.620750904083252\n",
      "Epoch [213/300], Loss: -9.325028419494629\n",
      "Epoch [214/300], Loss: -12.302051544189453\n",
      "Epoch [215/300], Loss: -10.629531860351562\n",
      "Epoch [216/300], Loss: -12.29953384399414\n",
      "Epoch [217/300], Loss: -13.015947818756104\n",
      "Epoch [218/300], Loss: -10.503221273422241\n",
      "Epoch [219/300], Loss: -9.35790729522705\n",
      "Epoch [220/300], Loss: -11.425362586975098\n",
      "Epoch [221/300], Loss: -11.235254764556885\n",
      "Epoch [222/300], Loss: -9.183075428009033\n",
      "Epoch [223/300], Loss: -13.301658153533936\n",
      "Epoch [224/300], Loss: -11.228377342224121\n",
      "Epoch [225/300], Loss: -11.236356973648071\n",
      "Epoch [226/300], Loss: -11.226845979690552\n",
      "Epoch [227/300], Loss: -10.94225788116455\n",
      "Epoch [228/300], Loss: -10.131948471069336\n",
      "Epoch [229/300], Loss: -9.403033971786499\n",
      "Epoch [230/300], Loss: -11.213921070098877\n",
      "Epoch [231/300], Loss: -13.306784629821777\n",
      "Epoch [232/300], Loss: -9.882402896881104\n",
      "Epoch [233/300], Loss: -8.714783668518066\n",
      "Epoch [234/300], Loss: -11.24450945854187\n",
      "Epoch [235/300], Loss: -11.132745742797852\n",
      "Epoch [236/300], Loss: -10.725597023963928\n",
      "Epoch [237/300], Loss: -12.356860637664795\n",
      "Epoch [238/300], Loss: -8.865368127822876\n",
      "Epoch [239/300], Loss: -8.384800672531128\n",
      "Epoch [240/300], Loss: -11.041270971298218\n",
      "Epoch [241/300], Loss: -9.831823348999023\n",
      "Epoch [242/300], Loss: -8.511032819747925\n",
      "Epoch [243/300], Loss: -8.819138765335083\n",
      "Epoch [244/300], Loss: -12.334957599639893\n",
      "Epoch [245/300], Loss: -9.694735050201416\n",
      "Epoch [246/300], Loss: -17.040637135505676\n",
      "Epoch [247/300], Loss: -10.797542333602905\n",
      "Epoch [248/300], Loss: -13.69367241859436\n",
      "Epoch [249/300], Loss: -9.236388683319092\n",
      "Epoch [250/300], Loss: -8.97995376586914\n",
      "Epoch [251/300], Loss: -10.590317726135254\n",
      "Epoch [252/300], Loss: -8.145859479904175\n",
      "Epoch [253/300], Loss: -9.353717803955078\n",
      "Epoch [254/300], Loss: -10.150551080703735\n",
      "Epoch [255/300], Loss: -13.357069253921509\n",
      "Epoch [256/300], Loss: -8.617600679397583\n",
      "Epoch [257/300], Loss: -9.863518476486206\n",
      "Epoch [258/300], Loss: -11.623630046844482\n",
      "Epoch [259/300], Loss: -12.74735951423645\n",
      "Epoch [260/300], Loss: -11.931471824645996\n",
      "Epoch [261/300], Loss: -9.727699995040894\n",
      "Epoch [262/300], Loss: -10.493358612060547\n",
      "Epoch [263/300], Loss: -10.60007095336914\n",
      "Epoch [264/300], Loss: -10.212790966033936\n",
      "Epoch [265/300], Loss: -10.513610363006592\n",
      "Epoch [266/300], Loss: -11.004322528839111\n",
      "Epoch [267/300], Loss: -8.813008069992065\n",
      "Epoch [268/300], Loss: -21.76999193429947\n",
      "Epoch [269/300], Loss: -10.349978923797607\n",
      "Epoch [270/300], Loss: -9.69991159439087\n",
      "Epoch [271/300], Loss: -11.629576683044434\n",
      "Epoch [272/300], Loss: -9.68746018409729\n",
      "Epoch [273/300], Loss: -10.671820878982544\n",
      "Epoch [274/300], Loss: -9.387865781784058\n",
      "Epoch [275/300], Loss: -8.765390396118164\n",
      "Epoch [276/300], Loss: -10.974018096923828\n",
      "Epoch [277/300], Loss: -8.82322096824646\n",
      "Epoch [278/300], Loss: -9.312900066375732\n",
      "Epoch [279/300], Loss: -8.599070310592651\n",
      "Epoch [280/300], Loss: -9.696715116500854\n",
      "Epoch [281/300], Loss: -9.380168914794922\n",
      "Epoch [282/300], Loss: -11.338446497917175\n",
      "Epoch [283/300], Loss: -10.837685108184814\n",
      "Epoch [284/300], Loss: -9.41799545288086\n",
      "Epoch [285/300], Loss: -11.654845237731934\n",
      "Epoch [286/300], Loss: -10.365810632705688\n",
      "Epoch [287/300], Loss: -15.069042384624481\n",
      "Epoch [288/300], Loss: -9.510026216506958\n",
      "Epoch [289/300], Loss: -11.20215654373169\n",
      "Epoch [290/300], Loss: -9.629775524139404\n",
      "Epoch [291/300], Loss: -9.65591049194336\n",
      "Epoch [292/300], Loss: -11.051846504211426\n",
      "Epoch [293/300], Loss: -11.934560775756836\n",
      "Epoch [294/300], Loss: -9.88377046585083\n",
      "Epoch [295/300], Loss: -12.8108069896698\n",
      "Epoch [296/300], Loss: -9.322896480560303\n",
      "Epoch [297/300], Loss: -9.912767887115479\n",
      "Epoch [298/300], Loss: -10.198034763336182\n",
      "Epoch [299/300], Loss: -12.407373905181885\n",
      "Epoch [300/300], Loss: -10.207107543945312\n"
     ]
    },
    {
     "data": {
      "text/plain": [
       "[<matplotlib.lines.Line2D at 0x2b742a63af0>]"
      ]
     },
     "execution_count": 1060,
     "metadata": {},
     "output_type": "execute_result"
    },
    {
     "data": {
      "image/png": "[encoded data removed]",
      "text/plain": [
       "<Figure size 640x480 with 1 Axes>"
      ]
     },
     "metadata": {},
     "output_type": "display_data"
    }
   ],
   "source": [
    "lossx = train_model(dev_layer, optimizer, train_loader, num_epochs=300)\n",
    "_, ax = plt.subplots()\n",
    "plt.plot(range(len(lossx)), lossx)"
   ]
  },
  {
   "cell_type": "markdown",
   "metadata": {},
   "source": [
    "## Test"
   ]
  },
  {
   "cell_type": "code",
   "execution_count": 1061,
   "metadata": {},
   "outputs": [],
   "source": [
    "dev_train = dev_layer(tsx_train)\n",
    "dev_test = dev_layer(tsx_test)"
   ]
  },
  {
   "cell_type": "code",
   "execution_count": 1062,
   "metadata": {},
   "outputs": [
    {
     "data": {
      "text/plain": [
       "torch.Size([1029, 1, 5, 5])"
      ]
     },
     "execution_count": 1062,
     "metadata": {},
     "output_type": "execute_result"
    }
   ],
   "source": [
    "dev_test.shape"
   ]
  },
  {
   "cell_type": "code",
   "execution_count": 1063,
   "metadata": {},
   "outputs": [],
   "source": [
    "dt1 = dev_train[y_train == 1][:, 0, ...]\n",
    "dt2 = dev_train[y_train == 2][:, 0, ...]"
   ]
  },
  {
   "cell_type": "code",
   "execution_count": 1064,
   "metadata": {},
   "outputs": [],
   "source": [
    "# ddt1 = dt1 - dt1[torch.randperm(len(dt1))]\n",
    "# ddt2 = dt2 - dt2[torch.randperm(len(dt2))]\n",
    "# ddt12 = dt1[:-1] - dt2#[torch.randperm(len(dt1))]\n",
    "# # norms1 = torch.swapaxes(dt1, 1, 2).bmm(dt1[torch.randperm(len(dt1))]).diagonal(dim1=1, dim2=2).sum(axis=1).detach().numpy()\n",
    "# norms1 = torch.swapaxes(ddt1, 1, 2).bmm(ddt1).diagonal(dim1=1, dim2=2).sum(axis=1).detach().numpy()\n",
    "# norms2 = torch.swapaxes(ddt2, 1, 2).bmm(ddt2).diagonal(dim1=1, dim2=2).sum(axis=1).detach().numpy()\n",
    "# norms12 = torch.swapaxes(ddt12, 1, 2).bmm(ddt12).diagonal(dim1=1, dim2=2).sum(axis=1).detach().numpy()\n",
    "# # norms2 = torch.swapaxes(dt2, 1, 2).bmm(dt2[torch.randperm(len(dt2))]).diagonal(dim1=1, dim2=2).sum(axis=1).detach().numpy()\n",
    "# # norms12 = torch.swapaxes(dt1[:-1], 1, 2).bmm(dt2[torch.randperm(len(dt2))]).diagonal(dim1=1, dim2=2).sum(axis=1).detach().numpy()\n",
    "\n",
    "# _, ax = plt.subplots()\n",
    "# ax.scatter(norms12, [1.5]*len(norms2))\n",
    "# ax.scatter(norms1, [1]*len(norms1))\n",
    "# ax.scatter(norms2, [2]*len(norms2))"
   ]
  },
  {
   "cell_type": "code",
   "execution_count": 1082,
   "metadata": {},
   "outputs": [],
   "source": [
    "tau1 = torch.mean(dt1, axis=0)\n",
    "tau2 = torch.mean(dt2, axis=0)"
   ]
  },
  {
   "cell_type": "code",
   "execution_count": 1083,
   "metadata": {},
   "outputs": [
    {
     "data": {
      "text/plain": [
       "<matplotlib.collections.PathCollection at 0x2b74290e260>"
      ]
     },
     "execution_count": 1083,
     "metadata": {},
     "output_type": "execute_result"
    },
    {
     "data": {
      "image/png": "[encoded data removed]",
      "text/plain": [
       "<Figure size 640x480 with 1 Axes>"
      ]
     },
     "metadata": {},
     "output_type": "display_data"
    }
   ],
   "source": [
    "ddt1 = dt1 - tau1\n",
    "ddt2 = dt2 - tau2\n",
    "ddt12 = dt1[:-1] - dt2\n",
    "# norms1 = torch.swapaxes(dt1, 1, 2).bmm(dt1[torch.randperm(len(dt1))]).diagonal(dim1=1, dim2=2).sum(axis=1).detach().numpy()\n",
    "norms1 = torch.swapaxes(ddt1, 1, 2).bmm(ddt1).diagonal(dim1=1, dim2=2).sum(axis=1).detach().numpy()\n",
    "norms2 = torch.swapaxes(ddt2, 1, 2).bmm(ddt2).diagonal(dim1=1, dim2=2).sum(axis=1).detach().numpy()\n",
    "norms12 = (\n",
    "    torch.swapaxes(ddt12, 1, 2).bmm(ddt12).diagonal(dim1=1, dim2=2).sum(axis=1).detach().numpy()\n",
    ")\n",
    "_, ax = plt.subplots()\n",
    "ax.scatter(norms12, [1.5] * len(norms2))\n",
    "ax.scatter(norms1, [1] * len(norms1))\n",
    "ax.scatter(norms2, [2] * len(norms2))"
   ]
  },
  {
   "cell_type": "code",
   "execution_count": 1066,
   "metadata": {},
   "outputs": [],
   "source": [
    "# linkage matrix\n",
    "from scipy.cluster.hierarchy import fclusterdata"
   ]
  },
  {
   "cell_type": "code",
   "execution_count": 1097,
   "metadata": {},
   "outputs": [],
   "source": [
    "diff1 = (dev_train - tau1)[:, 0, ...]\n",
    "diff2 = (dev_train - tau2)[:, 0, ...]\n",
    "\n",
    "dd1 = torch.swapaxes(diff1, 1, 2).bmm(diff1).diagonal(dim1=1, dim2=2).sum(-1)\n",
    "dd2 = torch.swapaxes(diff2, 1, 2).bmm(diff2).diagonal(dim1=1, dim2=2).sum(-1)\n",
    "\n",
    "c = (dd1 > dd2).detach().numpy().astype(float) + 1"
   ]
  },
  {
   "cell_type": "code",
   "execution_count": 1098,
   "metadata": {},
   "outputs": [
    {
     "data": {
      "text/plain": [
       "array([1., 1., 2., 2., 1., 2., 2., 1., 1., 2., 2., 1., 1., 2., 1., 2., 1.,\n",
       "       1., 2., 1., 1., 2., 1., 1., 1., 1., 1., 2., 2., 1., 1., 2., 2., 2.,\n",
       "       2., 2., 1., 2., 1., 2., 1., 1., 2., 2., 1., 2., 2., 2., 2., 1., 1.,\n",
       "       2., 2., 2., 1., 2., 2., 1., 1., 2., 2., 1., 1., 2., 1., 2., 2.])"
      ]
     },
     "execution_count": 1098,
     "metadata": {},
     "output_type": "execute_result"
    }
   ],
   "source": [
    "c"
   ]
  },
  {
   "cell_type": "code",
   "execution_count": 1113,
   "metadata": {},
   "outputs": [
    {
     "data": {
      "text/plain": [
       "array([[32,  2],\n",
       "       [ 0, 33]], dtype=int64)"
      ]
     },
     "execution_count": 1113,
     "metadata": {},
     "output_type": "execute_result"
    }
   ],
   "source": [
    "confusion_matrix(y_train.numpy(), c)"
   ]
  },
  {
   "cell_type": "code",
   "execution_count": 1101,
   "metadata": {},
   "outputs": [
    {
     "data": {
      "text/plain": [
       "tensor(0.9701)"
      ]
     },
     "execution_count": 1101,
     "metadata": {},
     "output_type": "execute_result"
    }
   ],
   "source": [
    "(y_train == c).sum() / len(y_train)"
   ]
  },
  {
   "cell_type": "code",
   "execution_count": 1105,
   "metadata": {},
   "outputs": [
    {
     "data": {
      "text/plain": [
       "0.9543245869776482"
      ]
     },
     "execution_count": 1105,
     "metadata": {},
     "output_type": "execute_result"
    }
   ],
   "source": [
    "diff1 = (dev_test - tau1)[:, 0, ...]\n",
    "diff2 = (dev_test - tau2)[:, 0, ...]\n",
    "\n",
    "dd1 = torch.swapaxes(diff1, 1, 2).bmm(diff1).diagonal(dim1=1, dim2=2).sum(-1)\n",
    "dd2 = torch.swapaxes(diff2, 1, 2).bmm(diff2).diagonal(dim1=1, dim2=2).sum(-1)\n",
    "\n",
    "c_test = (dd1 > dd2).detach().numpy().astype(float) + 1\n",
    "(y_test.numpy() == c_test).sum() / len(y_test)"
   ]
  },
  {
   "cell_type": "code",
   "execution_count": 1104,
   "metadata": {},
   "outputs": [
    {
     "data": {
      "text/plain": [
       "array([[492,  21],\n",
       "       [ 26, 490]], dtype=int64)"
      ]
     },
     "execution_count": 1104,
     "metadata": {},
     "output_type": "execute_result"
    }
   ],
   "source": [
    "confusion_matrix(y_test.numpy(), c_test)"
   ]
  },
  {
   "cell_type": "code",
   "execution_count": 1084,
   "metadata": {},
   "outputs": [],
   "source": [
    "def hilbert_schmidt_distance(d1, d2):\n",
    "    d = d1 - d2\n",
    "    return d.T.matmul(d).diagonal().sum()  # .detach().numpy()"
   ]
  },
  {
   "cell_type": "code",
   "execution_count": 1067,
   "metadata": {},
   "outputs": [],
   "source": [
    "def hilbert_schmidt_distance_np(d1, d2):\n",
    "    d1 = Tensor(d1).reshape(hidden_size, hidden_size)\n",
    "    d2 = Tensor(d2).reshape(hidden_size, hidden_size)\n",
    "    d = d1 - d2\n",
    "    return d.T.matmul(d).diagonal().sum()  # .detach().numpy()"
   ]
  },
  {
   "cell_type": "code",
   "execution_count": 1068,
   "metadata": {},
   "outputs": [],
   "source": [
    "X = dev_train.reshape(len(dev_train), -1).detach().numpy()"
   ]
  },
  {
   "cell_type": "code",
   "execution_count": 1110,
   "metadata": {},
   "outputs": [
    {
     "data": {
      "image/png": "[encoded data removed]",
      "text/plain": [
       "<Figure size 1200x400 with 16 Axes>"
      ]
     },
     "metadata": {},
     "output_type": "display_data"
    }
   ],
   "source": [
    "_, axs = plt.subplots(nrows=2, ncols=8, figsize=(12, 4))\n",
    "for i in range(8):\n",
    "    axs[0, i].imshow(dev_train[y_train == 1][i, 0, ...].detach().numpy())\n",
    "    axs[1, i].imshow(dev_train[y_train == 2][i, 0, ...].detach().numpy())"
   ]
  },
  {
   "cell_type": "code",
   "execution_count": 1112,
   "metadata": {},
   "outputs": [],
   "source": [
    "torch.save(dev_layer.state_dict(), os.path.join(os.getcwd(), \"pdev_ItalyPowerDemand\"))"
   ]
  },
  {
   "cell_type": "code",
   "execution_count": null,
   "metadata": {},
   "outputs": [],
   "source": []
  },
  {
   "cell_type": "markdown",
   "metadata": {},
   "source": [
    "## Compare expected signature"
   ]
  },
  {
   "cell_type": "code",
   "execution_count": 1114,
   "metadata": {},
   "outputs": [],
   "source": [
    "import signatory"
   ]
  },
  {
   "cell_type": "code",
   "execution_count": null,
   "metadata": {},
   "outputs": [],
   "source": [
    "# hilbert schmidt distance in the truncated tensor algebra"
   ]
  }
 ],
 "metadata": {
  "kernelspec": {
   "display_name": "devnet",
   "language": "python",
   "name": "python3"
  },
  "language_info": {
   "codemirror_mode": {
    "name": "ipython",
    "version": 3
   },
   "file_extension": ".py",
   "mimetype": "text/x-python",
   "name": "python",
   "nbconvert_exporter": "python",
   "pygments_lexer": "ipython3",
   "version": "3.10.14"
  }
 },
 "nbformat": 4,
 "nbformat_minor": 2
}
