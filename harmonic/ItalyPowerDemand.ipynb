{
 "cells": [
  {
   "cell_type": "markdown",
   "metadata": {},
   "source": [
    "# Apply expected path development to time-series classification\n",
    "**Data :**\n",
    "*ItalyPowerDemand* from [UAE](https://www.timeseriesclassification.com/description.php?Dataset=ItalyPowerDemand)\n"
   ]
  },
  {
   "cell_type": "code",
   "execution_count": 1,
   "metadata": {},
   "outputs": [],
   "source": [
    "import os\n",
    "from aeon.datasets import load_from_tsfile\n",
    "from matplotlib import pyplot as plt\n"
   ]
  },
  {
   "cell_type": "code",
   "execution_count": 2,
   "metadata": {},
   "outputs": [],
   "source": [
    "data_dir = os.path.join(os.getcwd(), \"..\", \"data\", \"ItalyPowerDemand\")\n",
    "train_file = \"ItalyPowerDemand_TRAIN.ts\"\n",
    "test_file = \"ItalyPowerDemand_TEST.ts\""
   ]
  },
  {
   "cell_type": "code",
   "execution_count": 3,
   "metadata": {},
   "outputs": [],
   "source": [
    "tsx_train, y_train = load_from_tsfile(os.path.join(data_dir, train_file))\n",
    "tsx_test, y_test = load_from_tsfile(os.path.join(data_dir, test_file))\n",
    "y_train = y_train.astype(int)\n",
    "y_test = y_test.astype(int)"
   ]
  },
  {
   "cell_type": "markdown",
   "metadata": {},
   "source": [
    "## Show time series "
   ]
  },
  {
   "cell_type": "code",
   "execution_count": null,
   "metadata": {},
   "outputs": [],
   "source": [
    "cm = {1: \"red\", 2: \"blue\"}\n",
    "_, ax = plt.subplots(figsize=(10, 5))\n",
    "x = range(24)\n",
    "for i in range(10):\n",
    "    ax.step(x, tsx_train[i, 0, :], c=cm[y_train[i]])\n",
    "ax.grid()"
   ]
  },
  {
   "cell_type": "code",
   "execution_count": null,
   "metadata": {},
   "outputs": [],
   "source": [
    "# local imports\n",
    "import sys\n",
    "\n",
    "sys.path.append(os.path.join(os.getcwd(), \"..\"))\n",
    "\n",
    "from development.nn import development_layer\n",
    "from development.so import so"
   ]
  },
  {
   "cell_type": "code",
   "execution_count": 5,
   "metadata": {},
   "outputs": [],
   "source": [
    "import numpy as np\n",
    "import torch\n",
    "from torch.utils.data import TensorDataset, DataLoader\n",
    "from torch import Tensor\n",
    "from torch import optim\n",
    "from sklearn.metrics import confusion_matrix\n",
    "from sklearn.metrics import ConfusionMatrixDisplay\n",
    "import pandas as pd"
   ]
  },
  {
   "cell_type": "code",
   "execution_count": 6,
   "metadata": {},
   "outputs": [],
   "source": [
    "# time augmentation\n",
    "tsx_train = np.concatenate(\n",
    "    [tsx_train, np.repeat(np.array([np.array([list(range(24))])]), len(tsx_train), axis=0)], axis=1\n",
    ")\n",
    "tsx_test = np.concatenate(\n",
    "    [tsx_test, np.repeat(np.array([np.array([list(range(24))])]), len(tsx_test), axis=0)], axis=1\n",
    ")\n",
    "\n",
    "# series dimension last\n",
    "tsx_train = Tensor(tsx_train).swapaxes(1, 2)\n",
    "tsx_test = Tensor(tsx_test).swapaxes(1, 2)\n",
    "\n",
    "y_train = Tensor(y_train)\n",
    "y_test = Tensor(y_test)"
   ]
  },
  {
   "cell_type": "markdown",
   "metadata": {},
   "source": [
    "## Pretrain"
   ]
  },
  {
   "cell_type": "code",
   "execution_count": 9,
   "metadata": {},
   "outputs": [],
   "source": [
    "# build the dataset\n",
    "batch_size = 35\n",
    "train = TensorDataset(tsx_train, y_train)\n",
    "\n",
    "train_loader = DataLoader(train, batch_size=batch_size, shuffle=True)"
   ]
  },
  {
   "cell_type": "markdown",
   "metadata": {},
   "source": [
    "## Train"
   ]
  },
  {
   "cell_type": "code",
   "execution_count": 10,
   "metadata": {},
   "outputs": [],
   "source": [
    "# try diferent sizes and groups and channels\n",
    "\n",
    "hidden_size = 5\n",
    "dev_layer = development_layer(\n",
    "    input_size=2,\n",
    "    hidden_size=hidden_size,\n",
    "    channels=1,\n",
    "    param=so,\n",
    "    complexification=False,\n",
    "    return_sequence=False,\n",
    ")"
   ]
  },
  {
   "cell_type": "code",
   "execution_count": null,
   "metadata": {},
   "outputs": [],
   "source": [
    "tsx_train.shape"
   ]
  },
  {
   "cell_type": "code",
   "execution_count": 33,
   "metadata": {},
   "outputs": [],
   "source": [
    "def train_model(model, optimizer, data_loader, num_epochs=10, alpha=0.5, beta=0.2, verbose=True):\n",
    "    model.train()\n",
    "    lossx = []\n",
    "    for epoch in range(num_epochs):\n",
    "        running_loss = 0.0\n",
    "        for inputs, labels in data_loader:\n",
    "            optimizer.zero_grad()\n",
    "            X = model(inputs)\n",
    "\n",
    "            Y = X[labels == 1]\n",
    "            Z = X[labels == 2]\n",
    "\n",
    "            tau_y = torch.mean(Y, axis=0)\n",
    "            tau_z = torch.mean(Z, axis=0)\n",
    "            dtau = tau_y - tau_z\n",
    "            dtauy = tau_y - Y\n",
    "            dtauz = tau_z - Z\n",
    "            loss = (\n",
    "                -(dtau[0].T.matmul(dtau[0]).diagonal(dim1=0, dim2=1).sum(-1)) / hidden_size\n",
    "                - beta\n",
    "                * (dtau[0].T.matmul(dtau[0]).diagonal(dim1=0, dim2=1).sum(-1)) ** 2\n",
    "                / hidden_size\n",
    "                + alpha\n",
    "                * torch.norm(\n",
    "                    torch.swapaxes(dtauy[:, 0, ...], 1, 2)\n",
    "                    .bmm(dtauy[:, 0, ...])\n",
    "                    .diagonal(dim1=1, dim2=2)\n",
    "                    .sum(-1)\n",
    "                )\n",
    "                ** 2\n",
    "                / hidden_size\n",
    "                / len(dtauy)\n",
    "                + alpha\n",
    "                * torch.norm(\n",
    "                    torch.swapaxes(dtauz[:, 0, ...], 1, 2)\n",
    "                    .bmm(dtauz[:, 0, ...])\n",
    "                    .diagonal(dim1=1, dim2=2)\n",
    "                    .sum(-1)\n",
    "                )\n",
    "                ** 2\n",
    "                / hidden_size\n",
    "                / len(dtauz)\n",
    "            )\n",
    "            loss.backward()\n",
    "            optimizer.step()\n",
    "\n",
    "            running_loss += loss.item()\n",
    "\n",
    "        lossx.append(running_loss / len(data_loader))\n",
    "        if verbose:\n",
    "            print(f\"Epoch [{epoch+1}/{num_epochs}], Loss: {running_loss / len(data_loader)}\")\n",
    "\n",
    "    return lossx"
   ]
  },
  {
   "cell_type": "code",
   "execution_count": null,
   "metadata": {},
   "outputs": [],
   "source": [
    "optimizer = optim.Adam(dev_layer.parameters(), lr=0.001)\n",
    "\n",
    "lossx = train_model(dev_layer, optimizer, train_loader, num_epochs=300)\n",
    "_, ax = plt.subplots()\n",
    "plt.plot(range(len(lossx)), lossx)"
   ]
  },
  {
   "cell_type": "markdown",
   "metadata": {},
   "source": [
    "## Test"
   ]
  },
  {
   "cell_type": "code",
   "execution_count": 14,
   "metadata": {},
   "outputs": [],
   "source": [
    "dev_train = dev_layer(tsx_train)\n",
    "dev_test = dev_layer(tsx_test)"
   ]
  },
  {
   "cell_type": "code",
   "execution_count": null,
   "metadata": {},
   "outputs": [],
   "source": [
    "dev_test.shape"
   ]
  },
  {
   "cell_type": "code",
   "execution_count": 16,
   "metadata": {},
   "outputs": [],
   "source": [
    "dt1 = dev_train[y_train == 1][:, 0, ...]\n",
    "dt2 = dev_train[y_train == 2][:, 0, ...]"
   ]
  },
  {
   "cell_type": "code",
   "execution_count": 18,
   "metadata": {},
   "outputs": [],
   "source": [
    "tau1 = torch.mean(dt1, axis=0)\n",
    "tau2 = torch.mean(dt2, axis=0)"
   ]
  },
  {
   "cell_type": "code",
   "execution_count": null,
   "metadata": {},
   "outputs": [],
   "source": [
    "ddt1 = dt1 - tau1\n",
    "ddt2 = dt2 - tau2\n",
    "ddt12 = dt1[:-1] - dt2\n",
    "# norms1 = torch.swapaxes(dt1, 1, 2).bmm(dt1[torch.randperm(len(dt1))]).diagonal(dim1=1, dim2=2).sum(axis=1).detach().numpy()\n",
    "norms1 = torch.swapaxes(ddt1, 1, 2).bmm(ddt1).diagonal(dim1=1, dim2=2).sum(axis=1).detach().numpy()\n",
    "norms2 = torch.swapaxes(ddt2, 1, 2).bmm(ddt2).diagonal(dim1=1, dim2=2).sum(axis=1).detach().numpy()\n",
    "norms12 = (\n",
    "    torch.swapaxes(ddt12, 1, 2).bmm(ddt12).diagonal(dim1=1, dim2=2).sum(axis=1).detach().numpy()\n",
    ")\n",
    "_, ax = plt.subplots()\n",
    "ax.scatter(norms12, [1.5] * len(norms2))\n",
    "ax.scatter(norms1, [1] * len(norms1))\n",
    "ax.scatter(norms2, [2] * len(norms2))"
   ]
  },
  {
   "cell_type": "code",
   "execution_count": 20,
   "metadata": {},
   "outputs": [],
   "source": [
    "# linkage matrix\n",
    "from scipy.cluster.hierarchy import fclusterdata"
   ]
  },
  {
   "cell_type": "code",
   "execution_count": 21,
   "metadata": {},
   "outputs": [],
   "source": [
    "diff1 = (dev_train - tau1)[:, 0, ...]\n",
    "diff2 = (dev_train - tau2)[:, 0, ...]\n",
    "\n",
    "dd1 = torch.swapaxes(diff1, 1, 2).bmm(diff1).diagonal(dim1=1, dim2=2).sum(-1)\n",
    "dd2 = torch.swapaxes(diff2, 1, 2).bmm(diff2).diagonal(dim1=1, dim2=2).sum(-1)\n",
    "\n",
    "c = (dd1 > dd2).detach().numpy().astype(float) + 1"
   ]
  },
  {
   "cell_type": "code",
   "execution_count": null,
   "metadata": {},
   "outputs": [],
   "source": [
    "c"
   ]
  },
  {
   "cell_type": "code",
   "execution_count": null,
   "metadata": {},
   "outputs": [],
   "source": [
    "confusion_matrix(y_train.numpy(), c)"
   ]
  },
  {
   "cell_type": "code",
   "execution_count": null,
   "metadata": {},
   "outputs": [],
   "source": [
    "(y_train == c).sum() / len(y_train)"
   ]
  },
  {
   "cell_type": "code",
   "execution_count": null,
   "metadata": {},
   "outputs": [],
   "source": [
    "ConfusionMatrixDisplay(confusion_matrix(y_train.numpy(), c)).plot()"
   ]
  },
  {
   "cell_type": "code",
   "execution_count": null,
   "metadata": {},
   "outputs": [],
   "source": [
    "diff1 = (dev_test - tau1)[:, 0, ...]\n",
    "diff2 = (dev_test - tau2)[:, 0, ...]\n",
    "\n",
    "dd1 = torch.swapaxes(diff1, 1, 2).bmm(diff1).diagonal(dim1=1, dim2=2).sum(-1)\n",
    "dd2 = torch.swapaxes(diff2, 1, 2).bmm(diff2).diagonal(dim1=1, dim2=2).sum(-1)\n",
    "\n",
    "c_test = (dd1 > dd2).detach().numpy().astype(float) + 1\n",
    "(y_test.numpy() == c_test).sum() / len(y_test)"
   ]
  },
  {
   "cell_type": "markdown",
   "metadata": {},
   "source": [
    "no overfitting"
   ]
  },
  {
   "cell_type": "code",
   "execution_count": null,
   "metadata": {},
   "outputs": [],
   "source": [
    "confusion_matrix(y_test.numpy(), c_test)"
   ]
  },
  {
   "cell_type": "code",
   "execution_count": null,
   "metadata": {},
   "outputs": [],
   "source": [
    "ConfusionMatrixDisplay(confusion_matrix(y_test.numpy(), c_test)).plot()"
   ]
  },
  {
   "cell_type": "code",
   "execution_count": 27,
   "metadata": {},
   "outputs": [],
   "source": [
    "def hilbert_schmidt_distance(d1, d2):\n",
    "    d = d1 - d2\n",
    "    return d.T.matmul(d).diagonal().sum()  # .detach().numpy()"
   ]
  },
  {
   "cell_type": "code",
   "execution_count": 1067,
   "metadata": {},
   "outputs": [],
   "source": [
    "def hilbert_schmidt_distance_np(d1, d2):\n",
    "    d1 = Tensor(d1).reshape(hidden_size, hidden_size)\n",
    "    d2 = Tensor(d2).reshape(hidden_size, hidden_size)\n",
    "    d = d1 - d2\n",
    "    return d.T.matmul(d).diagonal().sum()  # .detach().numpy()"
   ]
  },
  {
   "cell_type": "code",
   "execution_count": 1068,
   "metadata": {},
   "outputs": [],
   "source": [
    "X = dev_train.reshape(len(dev_train), -1).detach().numpy()"
   ]
  },
  {
   "cell_type": "code",
   "execution_count": null,
   "metadata": {},
   "outputs": [],
   "source": [
    "_, axs = plt.subplots(nrows=2, ncols=8, figsize=(12, 4))\n",
    "for i in range(8):\n",
    "    axs[0, i].imshow(dev_train[y_train == 1][i, 0, ...].detach().numpy())\n",
    "    axs[1, i].imshow(dev_train[y_train == 2][i, 0, ...].detach().numpy())"
   ]
  },
  {
   "cell_type": "code",
   "execution_count": 1112,
   "metadata": {},
   "outputs": [],
   "source": [
    "torch.save(dev_layer.state_dict(), os.path.join(os.getcwd(), \"pdev_ItalyPowerDemand\"))"
   ]
  },
  {
   "cell_type": "markdown",
   "metadata": {},
   "source": [
    "## Compare expected signature"
   ]
  },
  {
   "cell_type": "code",
   "execution_count": 7,
   "metadata": {},
   "outputs": [],
   "source": [
    "import signatory"
   ]
  },
  {
   "cell_type": "code",
   "execution_count": 27,
   "metadata": {},
   "outputs": [],
   "source": [
    "depth = 2\n",
    "sig_train = signatory.signature(tsx_train, depth=depth)\n",
    "\n",
    "# the embedding is parameter-free\n",
    "esig1 = torch.mean(sig_train[y_train == 1], axis=0)\n",
    "esig2 = torch.mean(sig_train[y_train == 2], axis=0)"
   ]
  },
  {
   "cell_type": "code",
   "execution_count": null,
   "metadata": {},
   "outputs": [],
   "source": [
    "len(esig1)"
   ]
  },
  {
   "cell_type": "code",
   "execution_count": 29,
   "metadata": {},
   "outputs": [],
   "source": [
    "def tensor_inner_product_level(t1k: Tensor, t2k: Tensor, n: int, k: int, d: int) -> Tensor:\n",
    "    t1k = t1k.reshape((n, d, 2 ** (k - 1)))\n",
    "    t2k = t2k.reshape((n, d, 2 ** (k - 1)))\n",
    "    return (t1k * t2k).sum(dim=1).prod(dim=1)\n",
    "\n",
    "\n",
    "def batched_tensor_inner_product(t1: Tensor, t2: Tensor, d: int, depth: int) -> Tensor:\n",
    "    batch_size = t1.size(0)\n",
    "    assert t1.size(0) == t2.size(0)\n",
    "    p = torch.zeros(batch_size)\n",
    "    for k in range(1, depth):\n",
    "        t1k = signatory.extract_signature_term(t1, d, k)\n",
    "        t2k = signatory.extract_signature_term(t2, d, k)\n",
    "        p += tensor_inner_product_level(t1k, t2k, batch_size, k, d)\n",
    "    return p"
   ]
  },
  {
   "cell_type": "code",
   "execution_count": null,
   "metadata": {},
   "outputs": [],
   "source": [
    "dsig1 = sig_train - esig1\n",
    "dsig2 = sig_train - esig2\n",
    "\n",
    "ddsig1 = batched_tensor_inner_product(dsig1, dsig1, 2, depth)\n",
    "ddsig2 = batched_tensor_inner_product(dsig2, dsig2, 2, depth)\n",
    "\n",
    "c = (ddsig1 > ddsig2).detach().numpy().astype(float) + 1\n",
    "c"
   ]
  },
  {
   "cell_type": "code",
   "execution_count": null,
   "metadata": {},
   "outputs": [],
   "source": [
    "confusion_matrix(y_train, c)"
   ]
  },
  {
   "cell_type": "code",
   "execution_count": null,
   "metadata": {},
   "outputs": [],
   "source": [
    "(y_train == c).sum().numpy() / len(y_train)"
   ]
  },
  {
   "cell_type": "code",
   "execution_count": null,
   "metadata": {},
   "outputs": [],
   "source": [
    "accuracyx = []\n",
    "for depth in range(2, 10):\n",
    "    sig_train = signatory.signature(tsx_train, depth=depth)\n",
    "\n",
    "    # the embedding is parameter-free\n",
    "    esig1 = torch.mean(sig_train[y_train == 1], axis=0)\n",
    "    esig2 = torch.mean(sig_train[y_train == 2], axis=0)\n",
    "    dsig1 = sig_train - esig1\n",
    "    dsig2 = sig_train - esig2\n",
    "\n",
    "    ddsig1 = batched_tensor_inner_product(dsig1, dsig1, 2, depth)\n",
    "    ddsig2 = batched_tensor_inner_product(dsig2, dsig2, 2, depth)\n",
    "\n",
    "    c = (ddsig1 > ddsig2).detach().numpy().astype(float) + 1\n",
    "    print(confusion_matrix(y_train, c))\n",
    "    accuracyx.append((y_train == c).sum().numpy() / len(y_train))"
   ]
  },
  {
   "cell_type": "code",
   "execution_count": null,
   "metadata": {},
   "outputs": [],
   "source": [
    "plt.bar(range(2, 10), accuracyx, ylabel=\"Accurary\")"
   ]
  },
  {
   "cell_type": "markdown",
   "metadata": {},
   "source": [
    "## Influence of the hidden size"
   ]
  },
  {
   "cell_type": "code",
   "execution_count": null,
   "metadata": {},
   "outputs": [],
   "source": [
    "# try diferent sizes and groups and channels\n",
    "hx = range(2, 11)\n",
    "res = pd.DataFrame(index=hx, columns=[\"Train\", \"Test\"])\n",
    "\n",
    "for h in hx:\n",
    "    print(\"\\n\")\n",
    "    print(\"#####################################\")\n",
    "    print(f\">>> Hidden size = {h}\")\n",
    "    print(\"#####################################\")\n",
    "    dev_layer = development_layer(\n",
    "        input_size=2,\n",
    "        hidden_size=h,\n",
    "        channels=1,\n",
    "        param=so,\n",
    "        complexification=False,\n",
    "        return_sequence=False,\n",
    "    )\n",
    "    optimizer = optim.Adam(dev_layer.parameters(), lr=0.001)\n",
    "    lossx = train_model(dev_layer, optimizer, train_loader, num_epochs=300, verbose=False)\n",
    "    _, ax = plt.subplots()\n",
    "    ax.plot(range(len(lossx)), lossx)\n",
    "    ax.set_title(f\"Loss hidden_size={h}\")\n",
    "    ax.set_xlabel(\"n epoch\")\n",
    "    ax.legend()\n",
    "    ax.grid()\n",
    "    # ax.show()\n",
    "    dev_train = dev_layer(tsx_train)\n",
    "    dev_test = dev_layer(tsx_test)\n",
    "\n",
    "    dt1 = dev_train[y_train == 1][:, 0, ...]\n",
    "    dt2 = dev_train[y_train == 2][:, 0, ...]\n",
    "\n",
    "    tau1 = torch.mean(dt1, axis=0)\n",
    "    tau2 = torch.mean(dt2, axis=0)\n",
    "\n",
    "    # train\n",
    "    ddt1 = dt1 - tau1\n",
    "    ddt2 = dt2 - tau2\n",
    "    ddt12 = dt1[:-1] - dt2\n",
    "\n",
    "    diff1 = (dev_train - tau1)[:, 0, ...]\n",
    "    diff2 = (dev_train - tau2)[:, 0, ...]\n",
    "\n",
    "    dd1 = torch.swapaxes(diff1, 1, 2).bmm(diff1).diagonal(dim1=1, dim2=2).sum(-1)\n",
    "    dd2 = torch.swapaxes(diff2, 1, 2).bmm(diff2).diagonal(dim1=1, dim2=2).sum(-1)\n",
    "\n",
    "    c = (dd1 > dd2).detach().numpy().astype(float) + 1\n",
    "\n",
    "    ConfusionMatrixDisplay(confusion_matrix(y_train.numpy(), c)).plot()  # title=f\"Hidden size={h}\"\n",
    "    actrain = (y_train == c).sum().numpy() / len(y_train)\n",
    "    print(h, f\"Train accuracy={actrain}\")\n",
    "\n",
    "    # test\n",
    "    diff1 = (dev_test - tau1)[:, 0, ...]\n",
    "    diff2 = (dev_test - tau2)[:, 0, ...]\n",
    "\n",
    "    dd1 = torch.swapaxes(diff1, 1, 2).bmm(diff1).diagonal(dim1=1, dim2=2).sum(-1)\n",
    "    dd2 = torch.swapaxes(diff2, 1, 2).bmm(diff2).diagonal(dim1=1, dim2=2).sum(-1)\n",
    "\n",
    "    c_test = (dd1 > dd2).detach().numpy().astype(float) + 1\n",
    "    actest = (y_test.numpy() == c_test).sum() / len(y_test)\n",
    "    res.loc[h] = [actrain, actest]\n",
    "    print(h, f\"Test accuracy={actest}\")\n",
    "\n",
    "    ConfusionMatrixDisplay(\n",
    "        confusion_matrix(y_test.numpy(), c_test)\n",
    "    ).plot()  # title=f\"Test, hidden_size={h}\""
   ]
  },
  {
   "cell_type": "code",
   "execution_count": null,
   "metadata": {},
   "outputs": [],
   "source": [
    "res.apply(lambda col: np.round(col, decimals=2))"
   ]
  },
  {
   "cell_type": "code",
   "execution_count": 60,
   "metadata": {},
   "outputs": [
    {
     "data": {
      "text/html": [
       "<div>\n",
       "<style scoped>\n",
       "    .dataframe tbody tr th:only-of-type {\n",
       "        vertical-align: middle;\n",
       "    }\n",
       "\n",
       "    .dataframe tbody tr th {\n",
       "        vertical-align: top;\n",
       "    }\n",
       "\n",
       "    .dataframe thead th {\n",
       "        text-align: right;\n",
       "    }\n",
       "</style>\n",
       "<table border=\"1\" class=\"dataframe\">\n",
       "  <thead>\n",
       "    <tr style=\"text-align: right;\">\n",
       "      <th></th>\n",
       "      <th>Train</th>\n",
       "      <th>Test</th>\n",
       "    </tr>\n",
       "  </thead>\n",
       "  <tbody>\n",
       "    <tr>\n",
       "      <th>2</th>\n",
       "      <td>0.522388</td>\n",
       "      <td>0.559767</td>\n",
       "    </tr>\n",
       "    <tr>\n",
       "      <th>3</th>\n",
       "      <td>0.985075</td>\n",
       "      <td>0.947522</td>\n",
       "    </tr>\n",
       "    <tr>\n",
       "      <th>4</th>\n",
       "      <td>0.985075</td>\n",
       "      <td>0.951409</td>\n",
       "    </tr>\n",
       "    <tr>\n",
       "      <th>5</th>\n",
       "      <td>0.970149</td>\n",
       "      <td>0.94655</td>\n",
       "    </tr>\n",
       "    <tr>\n",
       "      <th>6</th>\n",
       "      <td>0.970149</td>\n",
       "      <td>0.956268</td>\n",
       "    </tr>\n",
       "    <tr>\n",
       "      <th>7</th>\n",
       "      <td>0.985075</td>\n",
       "      <td>0.962099</td>\n",
       "    </tr>\n",
       "    <tr>\n",
       "      <th>8</th>\n",
       "      <td>0.970149</td>\n",
       "      <td>0.94655</td>\n",
       "    </tr>\n",
       "    <tr>\n",
       "      <th>9</th>\n",
       "      <td>0.970149</td>\n",
       "      <td>0.954325</td>\n",
       "    </tr>\n",
       "    <tr>\n",
       "      <th>10</th>\n",
       "      <td>0.970149</td>\n",
       "      <td>0.959184</td>\n",
       "    </tr>\n",
       "  </tbody>\n",
       "</table>\n",
       "</div>"
      ],
      "text/plain": [
       "       Train      Test\n",
       "2   0.522388  0.559767\n",
       "3   0.985075  0.947522\n",
       "4   0.985075  0.951409\n",
       "5   0.970149   0.94655\n",
       "6   0.970149  0.956268\n",
       "7   0.985075  0.962099\n",
       "8   0.970149   0.94655\n",
       "9   0.970149  0.954325\n",
       "10  0.970149  0.959184"
      ]
     },
     "execution_count": 60,
     "metadata": {},
     "output_type": "execute_result"
    }
   ],
   "source": [
    "res.round(0)  # .style.format(\".2f\")"
   ]
  },
  {
   "cell_type": "code",
   "execution_count": 65,
   "metadata": {},
   "outputs": [
    {
     "data": {
      "text/html": [
       "<div>\n",
       "<style scoped>\n",
       "    .dataframe tbody tr th:only-of-type {\n",
       "        vertical-align: middle;\n",
       "    }\n",
       "\n",
       "    .dataframe tbody tr th {\n",
       "        vertical-align: top;\n",
       "    }\n",
       "\n",
       "    .dataframe thead th {\n",
       "        text-align: right;\n",
       "    }\n",
       "</style>\n",
       "<table border=\"1\" class=\"dataframe\">\n",
       "  <thead>\n",
       "    <tr style=\"text-align: right;\">\n",
       "      <th></th>\n",
       "      <th>Train</th>\n",
       "      <th>Test</th>\n",
       "    </tr>\n",
       "  </thead>\n",
       "  <tbody>\n",
       "    <tr>\n",
       "      <th>2</th>\n",
       "      <td>52.2</td>\n",
       "      <td>56.0</td>\n",
       "    </tr>\n",
       "    <tr>\n",
       "      <th>3</th>\n",
       "      <td>98.5</td>\n",
       "      <td>94.8</td>\n",
       "    </tr>\n",
       "    <tr>\n",
       "      <th>4</th>\n",
       "      <td>98.5</td>\n",
       "      <td>95.1</td>\n",
       "    </tr>\n",
       "    <tr>\n",
       "      <th>5</th>\n",
       "      <td>97.0</td>\n",
       "      <td>94.7</td>\n",
       "    </tr>\n",
       "    <tr>\n",
       "      <th>6</th>\n",
       "      <td>97.0</td>\n",
       "      <td>95.6</td>\n",
       "    </tr>\n",
       "    <tr>\n",
       "      <th>7</th>\n",
       "      <td>98.5</td>\n",
       "      <td>96.2</td>\n",
       "    </tr>\n",
       "    <tr>\n",
       "      <th>8</th>\n",
       "      <td>97.0</td>\n",
       "      <td>94.7</td>\n",
       "    </tr>\n",
       "    <tr>\n",
       "      <th>9</th>\n",
       "      <td>97.0</td>\n",
       "      <td>95.4</td>\n",
       "    </tr>\n",
       "    <tr>\n",
       "      <th>10</th>\n",
       "      <td>97.0</td>\n",
       "      <td>95.9</td>\n",
       "    </tr>\n",
       "  </tbody>\n",
       "</table>\n",
       "</div>"
      ],
      "text/plain": [
       "    Train  Test\n",
       "2    52.2  56.0\n",
       "3    98.5  94.8\n",
       "4    98.5  95.1\n",
       "5    97.0  94.7\n",
       "6    97.0  95.6\n",
       "7    98.5  96.2\n",
       "8    97.0  94.7\n",
       "9    97.0  95.4\n",
       "10   97.0  95.9"
      ]
     },
     "execution_count": 65,
     "metadata": {},
     "output_type": "execute_result"
    }
   ],
   "source": [
    "res.astype(float).round(3) * 100"
   ]
  },
  {
   "cell_type": "markdown",
   "metadata": {},
   "source": [
    "## Influence of the group"
   ]
  },
  {
   "cell_type": "code",
   "execution_count": 67,
   "metadata": {},
   "outputs": [],
   "source": [
    "from development.se import se\n",
    "from development.sp import sp"
   ]
  },
  {
   "cell_type": "code",
   "execution_count": null,
   "metadata": {},
   "outputs": [],
   "source": []
  },
  {
   "cell_type": "code",
   "execution_count": 69,
   "metadata": {},
   "outputs": [
    {
     "name": "stdout",
     "output_type": "stream",
     "text": [
      "\n",
      "\n",
      "#####################################\n",
      ">>> Param = so\n",
      "#####################################\n"
     ]
    },
    {
     "name": "stderr",
     "output_type": "stream",
     "text": [
      "No artists with labels found to put in legend.  Note that artists whose label start with an underscore are ignored when legend() is called with no argument.\n"
     ]
    },
    {
     "name": "stdout",
     "output_type": "stream",
     "text": [
      "so Train accuracy=0.9850746268656716\n",
      "so Test accuracy=0.9620991253644315\n",
      "\n",
      "\n",
      "#####################################\n",
      ">>> Param = sp\n",
      "#####################################\n"
     ]
    },
    {
     "name": "stderr",
     "output_type": "stream",
     "text": [
      "No artists with labels found to put in legend.  Note that artists whose label start with an underscore are ignored when legend() is called with no argument.\n"
     ]
    },
    {
     "name": "stdout",
     "output_type": "stream",
     "text": [
      "sp Train accuracy=0.9253731343283582\n",
      "sp Test accuracy=0.9203109815354713\n",
      "\n",
      "\n",
      "#####################################\n",
      ">>> Param = se\n",
      "#####################################\n"
     ]
    },
    {
     "name": "stderr",
     "output_type": "stream",
     "text": [
      "No artists with labels found to put in legend.  Note that artists whose label start with an underscore are ignored when legend() is called with no argument.\n"
     ]
    },
    {
     "name": "stdout",
     "output_type": "stream",
     "text": [
      "se Train accuracy=0.9402985074626866\n",
      "se Test accuracy=0.902818270165209\n"
     ]
    },
    {
     "data": {
      "image/png": "[encoded data removed]",
      "text/plain": [
       "<Figure size 640x480 with 1 Axes>"
      ]
     },
     "metadata": {},
     "output_type": "display_data"
    },
    {
     "data": {
      "image/png": "[encoded data removed]",
      "text/plain": [
       "<Figure size 640x480 with 2 Axes>"
      ]
     },
     "metadata": {},
     "output_type": "display_data"
    },
    {
     "data": {
      "image/png": "[encoded data removed]",
      "text/plain": [
       "<Figure size 640x480 with 2 Axes>"
      ]
     },
     "metadata": {},
     "output_type": "display_data"
    },
    {
     "data": {
      "image/png": "[encoded data removed]",
      "text/plain": [
       "<Figure size 640x480 with 1 Axes>"
      ]
     },
     "metadata": {},
     "output_type": "display_data"
    },
    {
     "data": {
      "image/png": "[encoded data removed]",
      "text/plain": [
       "<Figure size 640x480 with 2 Axes>"
      ]
     },
     "metadata": {},
     "output_type": "display_data"
    },
    {
     "data": {
      "image/png": "[encoded data removed]",
      "text/plain": [
       "<Figure size 640x480 with 2 Axes>"
      ]
     },
     "metadata": {},
     "output_type": "display_data"
    },
    {
     "data": {
      "image/png": "[encoded data removed]",
      "text/plain": [
       "<Figure size 640x480 with 1 Axes>"
      ]
     },
     "metadata": {},
     "output_type": "display_data"
    },
    {
     "data": {
      "image/png": "[encoded data removed]",
      "text/plain": [
       "<Figure size 640x480 with 2 Axes>"
      ]
     },
     "metadata": {},
     "output_type": "display_data"
    },
    {
     "data": {
      "image/png": "[encoded data removed]",
      "text/plain": [
       "<Figure size 640x480 with 2 Axes>"
      ]
     },
     "metadata": {},
     "output_type": "display_data"
    }
   ],
   "source": [
    "# try diferent sizes and groups and channels\n",
    "paramx = [so, sp, se]\n",
    "hidden_size = 6\n",
    "res = pd.DataFrame(index=[p.__name__ for p in paramx], columns=[\"Train\", \"Test\"])\n",
    "\n",
    "for param in paramx:\n",
    "    print(\"\\n\")\n",
    "    print(\"#####################################\")\n",
    "    print(f\">>> Param = {param.__name__}\")\n",
    "    print(\"#####################################\")\n",
    "    dev_layer = development_layer(\n",
    "        input_size=2,\n",
    "        hidden_size=hidden_size,\n",
    "        channels=1,\n",
    "        param=param,\n",
    "        complexification=False,\n",
    "        return_sequence=False,\n",
    "    )\n",
    "    optimizer = optim.Adam(dev_layer.parameters(), lr=0.001)\n",
    "    lossx = train_model(dev_layer, optimizer, train_loader, num_epochs=300, verbose=False)\n",
    "    _, ax = plt.subplots()\n",
    "    ax.plot(range(len(lossx)), lossx)\n",
    "    ax.set_title(f\"Param={param.__name__}\")\n",
    "    ax.set_xlabel(\"n epoch\")\n",
    "    ax.legend()\n",
    "    ax.grid()\n",
    "    dev_train = dev_layer(tsx_train)\n",
    "    dev_test = dev_layer(tsx_test)\n",
    "\n",
    "    dt1 = dev_train[y_train == 1][:, 0, ...]\n",
    "    dt2 = dev_train[y_train == 2][:, 0, ...]\n",
    "\n",
    "    tau1 = torch.mean(dt1, axis=0)\n",
    "    tau2 = torch.mean(dt2, axis=0)\n",
    "\n",
    "    # train\n",
    "    ddt1 = dt1 - tau1\n",
    "    ddt2 = dt2 - tau2\n",
    "    ddt12 = dt1[:-1] - dt2\n",
    "\n",
    "    diff1 = (dev_train - tau1)[:, 0, ...]\n",
    "    diff2 = (dev_train - tau2)[:, 0, ...]\n",
    "\n",
    "    dd1 = torch.swapaxes(diff1, 1, 2).bmm(diff1).diagonal(dim1=1, dim2=2).sum(-1)\n",
    "    dd2 = torch.swapaxes(diff2, 1, 2).bmm(diff2).diagonal(dim1=1, dim2=2).sum(-1)\n",
    "\n",
    "    c = (dd1 > dd2).detach().numpy().astype(float) + 1\n",
    "\n",
    "    ConfusionMatrixDisplay(confusion_matrix(y_train.numpy(), c)).plot()  # title=f\"Hidden size={h}\"\n",
    "    actrain = (y_train == c).sum().numpy() / len(y_train)\n",
    "    print(param.__name__, f\"Train accuracy={actrain}\")\n",
    "\n",
    "    # test\n",
    "    diff1 = (dev_test - tau1)[:, 0, ...]\n",
    "    diff2 = (dev_test - tau2)[:, 0, ...]\n",
    "\n",
    "    dd1 = torch.swapaxes(diff1, 1, 2).bmm(diff1).diagonal(dim1=1, dim2=2).sum(-1)\n",
    "    dd2 = torch.swapaxes(diff2, 1, 2).bmm(diff2).diagonal(dim1=1, dim2=2).sum(-1)\n",
    "\n",
    "    c_test = (dd1 > dd2).detach().numpy().astype(float) + 1\n",
    "    actest = (y_test.numpy() == c_test).sum() / len(y_test)\n",
    "    res.loc[param.__name__] = [actrain, actest]\n",
    "    print(param.__name__, f\"Test accuracy={actest}\")\n",
    "\n",
    "    ConfusionMatrixDisplay(\n",
    "        confusion_matrix(y_test.numpy(), c_test)\n",
    "    ).plot()  # title=f\"Test, hidden_size={h}\""
   ]
  },
  {
   "cell_type": "code",
   "execution_count": 73,
   "metadata": {},
   "outputs": [
    {
     "data": {
      "text/html": [
       "<div>\n",
       "<style scoped>\n",
       "    .dataframe tbody tr th:only-of-type {\n",
       "        vertical-align: middle;\n",
       "    }\n",
       "\n",
       "    .dataframe tbody tr th {\n",
       "        vertical-align: top;\n",
       "    }\n",
       "\n",
       "    .dataframe thead th {\n",
       "        text-align: right;\n",
       "    }\n",
       "</style>\n",
       "<table border=\"1\" class=\"dataframe\">\n",
       "  <thead>\n",
       "    <tr style=\"text-align: right;\">\n",
       "      <th></th>\n",
       "      <th>Train</th>\n",
       "      <th>Test</th>\n",
       "    </tr>\n",
       "  </thead>\n",
       "  <tbody>\n",
       "    <tr>\n",
       "      <th>so</th>\n",
       "      <td>98.5</td>\n",
       "      <td>96.2</td>\n",
       "    </tr>\n",
       "    <tr>\n",
       "      <th>sp</th>\n",
       "      <td>92.5</td>\n",
       "      <td>92.0</td>\n",
       "    </tr>\n",
       "    <tr>\n",
       "      <th>se</th>\n",
       "      <td>94.0</td>\n",
       "      <td>90.3</td>\n",
       "    </tr>\n",
       "  </tbody>\n",
       "</table>\n",
       "</div>"
      ],
      "text/plain": [
       "    Train  Test\n",
       "so   98.5  96.2\n",
       "sp   92.5  92.0\n",
       "se   94.0  90.3"
      ]
     },
     "execution_count": 73,
     "metadata": {},
     "output_type": "execute_result"
    }
   ],
   "source": [
    "res.astype(float).round(3) * 100"
   ]
  },
  {
   "cell_type": "code",
   "execution_count": null,
   "metadata": {},
   "outputs": [],
   "source": []
  }
 ],
 "metadata": {
  "kernelspec": {
   "display_name": "devnet",
   "language": "python",
   "name": "python3"
  },
  "language_info": {
   "codemirror_mode": {
    "name": "ipython",
    "version": 3
   },
   "file_extension": ".py",
   "mimetype": "text/x-python",
   "name": "python",
   "nbconvert_exporter": "python",
   "pygments_lexer": "ipython3",
   "version": "3.10.14"
  }
 },
 "nbformat": 4,
 "nbformat_minor": 2
}
